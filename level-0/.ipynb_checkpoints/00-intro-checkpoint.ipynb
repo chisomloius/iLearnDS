{
 "cells": [
  {
   "cell_type": "markdown",
   "id": "8d218612-8cd2-4f52-888a-f6d082583443",
   "metadata": {},
   "source": [
    "# INTRODUCTION TO PYTON"
   ]
  },
  {
   "cell_type": "markdown",
   "id": "d548a069-5d8c-4cf2-a51d-9f16cbea64d0",
   "metadata": {
    "jp-MarkdownHeadingCollapsed": true,
    "tags": []
   },
   "source": [
    "## TABLE OF CONTENT\n",
    "\n",
    "|S/N| CONTENT                                                         |\n",
    "|---|---------------------------------------------------------------- |\n",
    "|1| [HISTORY OF PYTHON](#history-of-python)                           |\n",
    "|2| [PYTHON ZEN](#python-zen)                                         |\n",
    "|3| [DATA SCIENCE PROCESS](#data-science-process)                     |\n",
    "|4| [DATA SCIENCE TOOLS](#data-science-tools)                         |\n",
    "|5| [THE INTERSECTION OF ARTIFICIAL INTELLIGENCE](#intersection-of-ai)|\n",
    "|6| [REFERENCE](#reference)                                           |"
   ]
  },
  {
   "cell_type": "markdown",
   "id": "02fe1c16-bd24-49e6-8f5a-fcee047a10d5",
   "metadata": {
    "jp-MarkdownHeadingCollapsed": true,
    "tags": []
   },
   "source": [
    "### HISTORY OF PYTHON <a class=\"anchor\" id=\"history-of-python\"></a>"
   ]
  },
  {
   "cell_type": "markdown",
   "id": "054cf135-3fac-478f-8f8d-c68ef10b42fa",
   "metadata": {},
   "source": [
    "#### Early Days"
   ]
  },
  {
   "cell_type": "markdown",
   "id": "aa1fe0fd-87dc-46a2-a736-829b765b440f",
   "metadata": {},
   "source": [
    "- Python is a popular high-level programming language known for its simplicity and readability.\n",
    "- Python was created by Guido van Rossum, a Dutch programmer, in the late 1980s. Guido wanted to design a language that would emphasize code readability and maintainability."
   ]
  },
  {
   "cell_type": "markdown",
   "id": "cfb45cbb-1d1e-4ff1-94c4-74b05aeb63ac",
   "metadata": {},
   "source": [
    "#### Versions"
   ]
  },
  {
   "cell_type": "markdown",
   "id": "51a6eac7-39d0-42b3-8b08-6fed7f32450c",
   "metadata": {},
   "source": [
    "- Python 1.0 (January 1994): The first official version of Python, Python 1.0, was released in January 1994. \n",
    "It introduced various fundamental features such as lambda functions, exception handling, and a modular system.\n",
    "\n",
    "- Python 2.x Series (2000-2008): The Python 2.x series brought significant improvements and enhancements to the language. \n",
    "Python 2.2 introduced a garbage collector, while Python 2.4 introduced decorators and generator expressions. \n",
    "- Python 2.7, released in 2010, became the last version of the 2.x series and remained widely used for many years.\n",
    "\n",
    "- Python 3.0 (December 2008): Python 3.0 marked a major milestone in the language's evolution. \n",
    "It aimed to address design flaws and inconsistencies in Python 2.x. However, due to some backward-incompatible changes, adoption of Python 3 \n",
    "was initially slow, with many projects continuing to use Python 2.\n",
    "\n",
    "- Python 3.x Series (2008-Present): The Python 3.x series has continued to evolve and improve the language. \n",
    "Each subsequent version introduced new features and enhancements, along with better support for Unicode, improved syntax, and performance optimizations.\n",
    "The latest Python 3 version as of my knowledge cutoff in September 2021 is Python 3.9.\n",
    "More recently there is python 3.10 and 3.11"
   ]
  },
  {
   "cell_type": "markdown",
   "id": "fd1b497c-2519-42aa-b0e0-d80b2fbebb1b",
   "metadata": {},
   "source": [
    "#### Frameworks and Packages"
   ]
  },
  {
   "cell_type": "markdown",
   "id": "f0059985-1606-4f64-9f3a-f88c688af0c7",
   "metadata": {},
   "source": [
    "- It has become one of the most widely used programming languages, known for its versatility and simplicity.\n",
    "Python's extensive standard library, rich ecosystem of third-party packages (such as NumPy, Pandas, Django, Flask, and TensorFlow), \n",
    "and active community have contributed to its widespread adoption.\n",
    "Python finds applications in various domains, including web development, data analysis, scientific computing, machine learning, and artificial intelligence.\n",
    "- On Pypi there are over a million packages and libraries built, distributed and by the active community."
   ]
  },
  {
   "cell_type": "markdown",
   "id": "eedacf69-4d8a-4e3b-b8a8-631325e19e60",
   "metadata": {},
   "source": [
    "#### Populairty"
   ]
  },
  {
   "cell_type": "markdown",
   "id": "afbfe753-8a75-40f8-9269-02a01bf59bfb",
   "metadata": {},
   "source": [
    "- Python's Popularity: Over the years, Python's popularity has soared. It has become one of the most widely used programming languages, \n",
    "finding applications in various domains, including web development, data analysis, scientific computing, machine learning, and artificial intelligence. \n",
    "Python's simplicity, readability, vast standard library, and active community contribute to its widespread adoption."
   ]
  },
  {
   "cell_type": "markdown",
   "id": "541ed8f1-9103-46af-82a1-4f536c6b995c",
   "metadata": {},
   "source": [
    "#### Use Cases"
   ]
  },
  {
   "cell_type": "markdown",
   "id": "2edfc881-235a-42aa-a70e-359b745aa556",
   "metadata": {},
   "source": [
    "- Web Development: Python is widely used for web development. Frameworks like Django and Flask provide a robust environment for building web applications, \n",
    "handling database interactions, and managing server-side logic.\n",
    "\n",
    "- Data Analysis and Visualization: Python has become a go-to language for data analysis and visualization. \n",
    "Libraries like NumPy, pandas, and SciPy provide powerful tools for data manipulation and analysis. \n",
    "Matplotlib, Seaborn, and Plotly enable the creation of interactive plots.\n",
    "\n",
    "- Machine Learning and Artificial Intelligence: Python is extensively used in machine learning and artificial intelligence (AI) projects. \n",
    "Libraries like TensorFlow, PyTorch, and scikit-learn offer comprehensive functionalities for building and training machine learning models.\n",
    "\n",
    "- Scientific Computing: Python is popular in the scientific community for tasks involving numerical computations, simulations, and data visualization. \n",
    "Libraries such as SciPy, NumPy, and pandas provide an ecosystem for scientific computing, enabling researchers to perform complex calculations efficiently.\n",
    "\n",
    "- Scripting and Automation: Python's scripting capabilities make it an excellent choice for automating repetitive tasks and creating scripts.\n",
    "Its clear syntax and extensive standard library allow for quick and efficient development of automation scripts, making tasks like file management, \n",
    "system administration, and data processing easier.\n",
    "\n",
    "- Desktop Application Development: Python can be used for developing desktop applications with frameworks like PyQt and Tkinter. \n",
    "These frameworks provide the necessary tools for creating graphical user interfaces (GUIs) and developing cross-platform applications.\n",
    "\n",
    "- Game Development: Python is utilized in game development, both for creating complete games and prototyping. \n",
    "Libraries such as Pygame offer functionality for developing 2D games, while Pyglet and Panda3D provide more advanced features for game development.\n",
    "\n",
    "- Cybersecurity and Network Programming: Python's versatility extends to the realm of cybersecurity and network programming. \n",
    "It can be used for tasks such as network scanning, packet analysis, and security testing. \n",
    "Frameworks like Scapy and libraries like Paramiko and Requests facilitate network programming and cybersecurity-related tasks.\n",
    "\n",
    "- Internet of Things (IoT): Python is gaining popularity in the field of IoT due to its ease of use and support for various hardware platforms. \n",
    "Libraries like Raspberry Pi GPIO and MicroPython make it convenient to interact with IoT devices, collect sensor data, and control actuators.\n",
    "\n",
    "- Education and Beginner Programming: Python's simplicity, readability, and extensive documentation make it an ideal language for teaching programming \n",
    "to beginners. Its syntax resembles pseudocode, making it easier for newcomers to understand programming concepts. \n",
    "Python is often used as a first language in educational institutions."
   ]
  },
  {
   "cell_type": "markdown",
   "id": "82582277-b64b-4627-8e29-da43d76a8013",
   "metadata": {},
   "source": [
    "#### Its Future "
   ]
  },
  {
   "cell_type": "markdown",
   "id": "3a3f0fda-fb9b-4d3a-82ff-2a38dbb73db0",
   "metadata": {},
   "source": [
    "- Python 4 (Future): As of my knowledge cutoff in September 2021, Python 4 has not been released, and there is no specific roadmap for its development.\n",
    "The Python community remains focused on improving and maintaining the Python 3.x series, ensuring backward compatibility and providing new features through \n",
    "incremental updates.\n",
    "- Other integration with Ai is also cominmg"
   ]
  },
  {
   "cell_type": "markdown",
   "id": "26550ae6-1bbb-4fc6-b9a5-39bf2f45bb39",
   "metadata": {
    "jp-MarkdownHeadingCollapsed": true,
    "tags": []
   },
   "source": [
    "### PYTHON ZEN <a class=\"anchor\" id=\"python-zen\"></a>"
   ]
  },
  {
   "cell_type": "markdown",
   "id": "50b46c04-bd3d-424b-bc29-ca85447d260d",
   "metadata": {},
   "source": [
    "- The Zen of Python, also known as PEP 20 (Python Enhancement Proposal 20), is a set of guiding principles for writing Python code. It was written by Tim Peters, one of the core developers of Python, as a collection of aphorisms that capture the philosophy and design principles of the Python language. The Zen of Python can be accessed by importing the \"this\" module in Python. Here is the Zen of Python:"
   ]
  },
  {
   "cell_type": "code",
   "execution_count": 7,
   "id": "8991ef55-6a2b-4db1-a8c9-be33c6395f41",
   "metadata": {},
   "outputs": [
    {
     "name": "stdout",
     "output_type": "stream",
     "text": [
      "The Zen of Python, by Tim Peters\n",
      "\n",
      "Beautiful is better than ugly.\n",
      "Explicit is better than implicit.\n",
      "Simple is better than complex.\n",
      "Complex is better than complicated.\n",
      "Flat is better than nested.\n",
      "Sparse is better than dense.\n",
      "Readability counts.\n",
      "Special cases aren't special enough to break the rules.\n",
      "Although practicality beats purity.\n",
      "Errors should never pass silently.\n",
      "Unless explicitly silenced.\n",
      "In the face of ambiguity, refuse the temptation to guess.\n",
      "There should be one-- and preferably only one --obvious way to do it.\n",
      "Although that way may not be obvious at first unless you're Dutch.\n",
      "Now is better than never.\n",
      "Although never is often better than *right* now.\n",
      "If the implementation is hard to explain, it's a bad idea.\n",
      "If the implementation is easy to explain, it may be a good idea.\n",
      "Namespaces are one honking great idea -- let's do more of those!\n"
     ]
    }
   ],
   "source": [
    "import this"
   ]
  },
  {
   "cell_type": "markdown",
   "id": "d4d81b6c-2263-4e81-948b-cc3be83f7630",
   "metadata": {
    "jp-MarkdownHeadingCollapsed": true,
    "tags": []
   },
   "source": [
    "### DATA SCIENCE PROCESS  <a class=\"anchor\" id=\"data-science-process\"></a>"
   ]
  },
  {
   "cell_type": "markdown",
   "id": "2fe23b7a-8de2-42d1-bb7c-db9bc466c866",
   "metadata": {},
   "source": [
    "#### From Problem to Approach"
   ]
  },
  {
   "cell_type": "markdown",
   "id": "6b222220-fdef-416c-a920-ac4de4469184",
   "metadata": {},
   "source": [
    "- Business Understanding: Clearly define the business problem or question that needs to be addressed. Understand the objectives, goals, and context of the \n",
    "project from a business perspective.\n",
    "\n",
    "- Analytic Approach: Determine the appropriate analytical techniques and methods to solve the problem. Identify the data science methodologies, algorithms,\n",
    "or models that are most suitable for the problem at hand."
   ]
  },
  {
   "cell_type": "markdown",
   "id": "9dc85460-3deb-4f27-859a-bf04dc8ed765",
   "metadata": {},
   "source": [
    "#### From Requirements to Collection"
   ]
  },
  {
   "cell_type": "markdown",
   "id": "e617916e-982f-410b-a020-916e264576ae",
   "metadata": {},
   "source": [
    "- Data Requirements: Identify the data needed to solve the problem and meet the objectives. Determine the specific variables, attributes, or features required\n",
    "for analysis.\n",
    "\n",
    "- Data Collection: Gather the necessary data from various sources, such as databases, APIs, or files. Ensure data quality, reliability, and relevance to the\n",
    "problem. Consider privacy and legal considerations when collecting data."
   ]
  },
  {
   "cell_type": "markdown",
   "id": "89471640-869b-4da5-ab80-81710008e369",
   "metadata": {},
   "source": [
    "#### From Understanding to Preparation"
   ]
  },
  {
   "cell_type": "markdown",
   "id": "5f1844e9-0882-4a97-a451-204f7e36c397",
   "metadata": {},
   "source": [
    "- Data Understanding: Explore and familiarize yourself with the collected data. Examine the structure, format, and characteristics of the data. \n",
    "Identify any issues, patterns, or relationships within the data.\n",
    "\n",
    "- Data Preparation: Clean, preprocess, and transform the data to make it suitable for analysis. Handle missing values, outliers, and inconsistencies. \n",
    "Perform data normalization, feature scaling, and encoding as necessary"
   ]
  },
  {
   "cell_type": "markdown",
   "id": "93367966-e6ab-47b2-b14b-e89bb3f4cded",
   "metadata": {},
   "source": [
    "#### From Modeling to Evaluation"
   ]
  },
  {
   "cell_type": "markdown",
   "id": "cebf5a19-ef54-4987-b197-9879ac92b7e2",
   "metadata": {},
   "source": [
    "- Modeling: Select and apply appropriate machine learning algorithms or statistical models to the prepared data. Train the models using the training dataset\n",
    "and optimize the model's parameters. Iteratively refine and tune the models as needed.\n",
    "\n",
    "- Evaluation: Assess the performance and effectiveness of the trained models. Use appropriate evaluation metrics to measure accuracy, precision, recall,\n",
    "or other relevant metrics. Validate the model's performance using the testing dataset."
   ]
  },
  {
   "cell_type": "markdown",
   "id": "b531f4e0-0edc-40c7-9a6a-8d3927751786",
   "metadata": {},
   "source": [
    "#### From Deployment to Feedback"
   ]
  },
  {
   "cell_type": "markdown",
   "id": "b48c4603-3763-4b42-a9e9-ba8c34717e14",
   "metadata": {},
   "source": [
    "- Deployment: Deploy the trained model into a production environment or integrate it into an application for real-world use.\n",
    "Ensure scalability, efficiency, and reliability in the deployment process.\n",
    "\n",
    "- Maintenance and Improvement: Continuously monitor and maintain the deployed model. Update and retrain the model as new data becomes available. \n",
    "Address any issues or challenges that arise during the operational phase.\n",
    "\n",
    "Feedback: Gather feedback from stakeholders and users of the deployed solution. Incorporate feedback to improve the model's performance, address limitations, \n",
    "and enhance the overall solution based on real-world usage and insights."
   ]
  },
  {
   "cell_type": "markdown",
   "id": "8e4ab07e-f666-4c51-a23d-66c22af26319",
   "metadata": {
    "jp-MarkdownHeadingCollapsed": true,
    "tags": []
   },
   "source": [
    "### DATA SCIENCE TOOLS <a class=\"anchor\" id=\"data-science-tools\"></a>"
   ]
  },
  {
   "cell_type": "markdown",
   "id": "7d8c8fbd-d245-4fc5-85c7-1b3862ce4075",
   "metadata": {},
   "source": [
    "This are the top categorisation of Data Science Tools according to [IBM studies](#).\n",
    "    \n",
    "- data management \n",
    "- data integration \n",
    "- data visualisation\n",
    "- model building\n",
    "- model deployement\n",
    "- model monitoring and assessment\n",
    "- code data asset management\n",
    "- data asset management\n",
    "- integrated developmemnt environment\n",
    "- execution environments"
   ]
  },
  {
   "cell_type": "markdown",
   "id": "a7ab569a-2ec7-4568-b1c0-4e26299bcfcd",
   "metadata": {},
   "source": [
    "#### Data Management: "
   ]
  },
  {
   "cell_type": "markdown",
   "id": "7939da53-f4fa-4dcb-b6fe-2b06f0207179",
   "metadata": {},
   "source": [
    "Data management tools help in organizing, storing, and retrieving data efficiently. They often provide functionalities like data storage, \n",
    "data quality checks, data cataloging, and metadata management. Examples of data management tools include Apache Hadoop, MongoDB, Oracle Database, \n",
    "and Microsoft SQL Server."
   ]
  },
  {
   "cell_type": "markdown",
   "id": "d1a46177-89ef-4298-a9f0-ce3261c0600e",
   "metadata": {},
   "source": [
    "#### Data Integration"
   ]
  },
  {
   "cell_type": "markdown",
   "id": "db780c9d-8ceb-46db-b3e4-6d6452c81bcf",
   "metadata": {},
   "source": [
    "Data integration tools facilitate the process of combining data from different sources into a unified format. \n",
    "They enable data extraction, transformation, and loading (ETL) operations, ensuring data consistency and coherence.\n",
    "Examples of data integration tools include Informatica PowerCenter, Talend, Apache NiFi, and Microsoft Azure Data Factory."
   ]
  },
  {
   "cell_type": "markdown",
   "id": "8a949ed2-a1d4-4920-9456-74687db788d8",
   "metadata": {},
   "source": [
    "#### Data Visualization"
   ]
  },
  {
   "cell_type": "markdown",
   "id": "0d5f570b-627e-426d-b719-065d4167077f",
   "metadata": {},
   "source": [
    "Data visualization tools allow for the creation of visual representations of data, making it easier to understand and interpret\n",
    "complex information. These tools often provide various charts, graphs, and interactive dashboards. Examples of data visualization tools include Tableau,\n",
    "Power BI, QlikView, and Matplotlib (Python library)."
   ]
  },
  {
   "cell_type": "markdown",
   "id": "d9b8b83e-79fd-48c2-be28-608d0ed4b514",
   "metadata": {},
   "source": [
    "#### Model Building"
   ]
  },
  {
   "cell_type": "markdown",
   "id": "c1267ee5-e8d4-43f8-87ee-2cc21a16b779",
   "metadata": {},
   "source": [
    "Model building tools assist in developing and training machine learning or statistical models. \n",
    "They provide algorithms, libraries, and frameworks for data preprocessing, feature engineering, model selection, and model training. \n",
    "Examples of model building tools include scikit-learn (Python library), TensorFlow, PyTorch, and Microsoft Azure Machine Learning."
   ]
  },
  {
   "cell_type": "markdown",
   "id": "bb6a3ee0-1d5e-45a0-9371-1883002e3816",
   "metadata": {},
   "source": [
    "#### Model Deployment"
   ]
  },
  {
   "cell_type": "markdown",
   "id": "db860190-e8a6-4d2c-ade1-85d0130d1c5a",
   "metadata": {},
   "source": [
    " Model deployment tools enable the deployment of trained machine learning or statistical models into a production environment. \n",
    "They help in integrating models into applications, setting up APIs, and ensuring scalability and performance. Examples of model deployment tools \n",
    "include Flask (Python library), Docker, Kubernetes, and Microsoft Azure ML Deployment."
   ]
  },
  {
   "cell_type": "markdown",
   "id": "c5164a08-7056-4805-b71c-8e6414285ea8",
   "metadata": {},
   "source": [
    "#### Model Monitoring and Assessment"
   ]
  },
  {
   "cell_type": "markdown",
   "id": "ed190259-303e-4362-aadf-61af0ad131c7",
   "metadata": {},
   "source": [
    "Model monitoring and assessment tools track the performance and behavior of deployed models in real-world scenarios.\n",
    "They monitor model accuracy, identify concept drift, and assess model fairness and bias. Examples of model monitoring and assessment tools include ModelOp \n",
    "Center, Seldon, and Algorithmia."
   ]
  },
  {
   "cell_type": "markdown",
   "id": "f9c47109-088f-44ba-9b81-4cf8d7c2eba8",
   "metadata": {},
   "source": [
    "#### Code Data Asset Management"
   ]
  },
  {
   "cell_type": "markdown",
   "id": "89f9ec54-fa95-40c8-b924-202957b178dc",
   "metadata": {},
   "source": [
    "Code data asset management tools aid in version control, collaboration, and organization of code-related assets, \n",
    "such as scripts, notebooks, and pipelines. They help in maintaining code quality, reproducibility, and documentation. Examples of code data asset management \n",
    "tools include Git, GitHub, GitLab, and Bitbucket."
   ]
  },
  {
   "cell_type": "markdown",
   "id": "c9294702-feb4-4fa9-9684-56630061583a",
   "metadata": {},
   "source": [
    "#### Data Asset Management"
   ]
  },
  {
   "cell_type": "markdown",
   "id": "ef216b88-687f-49f2-b242-3f830b51a23c",
   "metadata": {},
   "source": [
    "Data asset management tools focus on managing and organizing data assets, including datasets, files, and documents. \n",
    "They often provide functionalities for data cataloging, data lineage, data governance, and access control. Examples of data asset management tools \n",
    "include Collibra, Alation, Apache Atlas, and Microsoft Azure Purview."
   ]
  },
  {
   "cell_type": "markdown",
   "id": "27899054-be48-41c4-b9a8-8f391de966d4",
   "metadata": {},
   "source": [
    "#### Integrated Development Environment (IDE)"
   ]
  },
  {
   "cell_type": "markdown",
   "id": "3ebde81e-4a06-4065-ae13-7fea0f1734d7",
   "metadata": {},
   "source": [
    "IDEs are software applications that provide an integrated environment for software development, \n",
    "including code editing, debugging, and project management features. Some IDEs offer specific support for data science and analytics workflows.\n",
    "Examples of data-focused IDEs include Jupyter Notebook, PyCharm, RStudio, and Visual Studio Code."
   ]
  },
  {
   "cell_type": "markdown",
   "id": "4b660321-356c-4276-82be-d70106377f7b",
   "metadata": {},
   "source": [
    "#### Execution Environments"
   ]
  },
  {
   "cell_type": "markdown",
   "id": "1c3b633c-39f2-4c12-ad86-0c77570c2f2d",
   "metadata": {},
   "source": [
    "Execution environments provide a platform or runtime environment for running data-related processes, applications, or workflows. \n",
    "They offer resources for executing code, managing dependencies, and scaling computations. Examples of execution environments include Apache Spark, \n",
    "Databricks, Amazon EMR, and Google Cloud Dataflow."
   ]
  },
  {
   "cell_type": "markdown",
   "id": "728029a1-96fa-47da-9e32-b77d8def451c",
   "metadata": {
    "jp-MarkdownHeadingCollapsed": true,
    "tags": []
   },
   "source": [
    "### INTERSECTION OF ARTIFICAIL INTELLIGENCE <a class=\"anchor\" id=\"intersection-of-ai\"></a>"
   ]
  },
  {
   "cell_type": "markdown",
   "id": "323b95bf-c5df-4996-a7c6-a84cfe1f96ce",
   "metadata": {},
   "source": [
    "Advancements in AI and ML are rooted in statistics and computer science, with algorithms like neural networks, random forests, \n",
    "and k-nearest neighbors using statistics to build models and evaluate accuracy.\n",
    "- It is important to reflect on some of the intersections.\n",
    "- Data science is about using data to provide value (money, growth, reputation, etc.) to an organization.\n",
    "- Machine learning is about using data to make optimized inferences and predictions.\n",
    "- Artificial intelligence is about using data to impart human-like decision making to machines."
   ]
  },
  {
   "attachments": {
    "e0b8e13d-7518-4044-8ac6-551f3e7a15ac.jpg": {
     "image/jpeg": "[encoded data removed]"
    }
   },
   "cell_type": "markdown",
   "id": "b597b506-affd-443a-8c30-a78a3da38efd",
   "metadata": {},
   "source": [
    "![ai-vs-ml-ds-dl.jpg](attachment:e0b8e13d-7518-4044-8ac6-551f3e7a15ac.jpg)"
   ]
  },
  {
   "attachments": {
    "06d84014-5a63-4b43-a881-c70e6226ad05.jpg": {
     "image/jpeg": "[encoded data removed]"
    }
   },
   "cell_type": "markdown",
   "id": "2b91c2d6-62a3-4e4b-907d-d05c04afcdbf",
   "metadata": {},
   "source": [
    "![complete-ds-vs-ml--ai.jpg](attachment:06d84014-5a63-4b43-a881-c70e6226ad05.jpg)"
   ]
  },
  {
   "cell_type": "markdown",
   "id": "75ca3c7d-9335-4ce7-8cd5-14d31f3a0616",
   "metadata": {
    "jp-MarkdownHeadingCollapsed": true,
    "tags": []
   },
   "source": [
    "### REFRENCES <a class=\"anchor\" id=\"reference\"></a>"
   ]
  },
  {
   "cell_type": "markdown",
   "id": "5fb1f166-8778-476f-9fb7-b95262db9387",
   "metadata": {},
   "source": [
    "|S/N| links                                                                            |\n",
    "|---|--------------------------------------------------------------------------------- |\n",
    "|-  |https://online.stanford.edu/courses/csp-xstat05-statistics-ai-machine-learning-and-data-science |\n",
    "|-  |https://towardsdatascience.com/defining-data-science-machine-learning-and-artificial-intelligence-95f42a60b57c |\n",
    "|-  |https://www.mdpi.com/2076-3417/13/6/3895 |\n",
    "|-  |https://www.geeksforgeeks.org/data-science-vs-machine-learning/ |\n",
    "|-  |https://www.ibm.com/topics/data-science |"
   ]
  },
  {
   "cell_type": "code",
   "execution_count": null,
   "id": "0f337061-ba77-4373-a3b6-6eb799c386b0",
   "metadata": {},
   "outputs": [],
   "source": []
  }
 ],
 "metadata": {
  "kernelspec": {
   "display_name": "Python 3 (ipykernel)",
   "language": "python",
   "name": "python3"
  },
  "language_info": {
   "codemirror_mode": {
    "name": "ipython",
    "version": 3
   },
   "file_extension": ".py",
   "mimetype": "text/x-python",
   "name": "python",
   "nbconvert_exporter": "python",
   "pygments_lexer": "ipython3",
   "version": "3.9.12"
  },
  "toc-autonumbering": false
 },
 "nbformat": 4,
 "nbformat_minor": 5
}
