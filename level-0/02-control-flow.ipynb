{
 "cells": [
  {
   "cell_type": "markdown",
   "id": "3139ffbd-2939-4192-b4f7-fb0277f56edd",
   "metadata": {},
   "source": [
    "# CONTROL FLOW"
   ]
  },
  {
   "cell_type": "markdown",
   "id": "017dce74-1f8e-4b34-89fd-4383bbb9806e",
   "metadata": {},
   "source": [
    "## TABLE OF CONTENT\n",
    "\n",
    "|S/N| CONTENT                                          |\n",
    "|---|--------------------------------------------------|\n",
    "|1| [IF STATEMENT](#if)                                |\n",
    "|2| [IF ELSE STATEMENT](#if-else)                      |\n",
    "|3| [IF ELIF ELSE STATEMENT](#if-elif-else)            |\n",
    "|4| [RANGE](#range)                                    |\n",
    "|5| [TRUE STATEMENT](#true)                            |\n",
    "|6| [WHILE STATEMENT](#while)                          |\n",
    "|7| [WHILE DO STATEMENT](#while-do)                    |\n",
    "|8| [BREAK, CONTINUE AND PASS](#break-continue)        |\n",
    "|9| [TRY EXCEPT FINALLY STATEMENT](#try-except-finally)|\n",
    "|10| [FOR STATEMENT](#for)                             |\n",
    "|11| [RANGE STATEMENT](#range)                         |\n",
    "|12| [BREAK AND CONTINUE STATEMENT](#break-continue)   |\n",
    "|13| [PASS STATEMENT](#pass)                           |\n",
    "|14| [MATCH](#match)                                   |\n",
    "|15| [REFERENCE](#reference)                           | "
   ]
  },
  {
   "cell_type": "markdown",
   "id": "7bb17b2d-c582-40cd-b718-dc92f9ba37b9",
   "metadata": {},
   "source": [
    "## Ground Rules to Follow"
   ]
  },
  {
   "attachments": {
    "331d06b9-f790-46dc-b223-e49bc3b83d78.PNG": {
     "image/png": "[encoded data removed]"
    }
   },
   "cell_type": "markdown",
   "id": "7ac7c9d0-19da-4f30-9d40-3fdc86baea7a",
   "metadata": {},
   "source": [
    "- Sign up on [Ananconda Cloud](https://anaconda.cloud/)\n",
    "- Navigate to you notebook side of the website.\n",
    "- ![capture.PNG](attachment:331d06b9-f790-46dc-b223-e49bc3b83d78.PNG)\n",
    "- Create a folder and import the files from the Team's folder.\n",
    "- Run your notebook along."
   ]
  },
  {
   "cell_type": "markdown",
   "id": "bd95f56a-52d5-45a9-9feb-1ea8586399b8",
   "metadata": {},
   "source": [
    "#### IF STATEMENT<a class=\"anchor\" id=\"if\"></a>"
   ]
  },
  {
   "cell_type": "markdown",
   "id": "baec5538-b006-40df-b975-b2e65ad5336a",
   "metadata": {},
   "source": [
    "- This is a conditiona straight statement"
   ]
  },
  {
   "cell_type": "code",
   "execution_count": 5,
   "id": "7544d4e6-e699-44ec-b934-9e2308564d58",
   "metadata": {},
   "outputs": [
    {
     "name": "stdout",
     "output_type": "stream",
     "text": [
      "This will always be executed\n"
     ]
    }
   ],
   "source": [
    "x = 5\n",
    "if x == 5:\n",
    "    print(\"This will always be executed\")"
   ]
  },
  {
   "cell_type": "code",
   "execution_count": 29,
   "id": "857308b6-cdbb-49a3-a9cf-fd867df9e155",
   "metadata": {},
   "outputs": [
    {
     "name": "stdout",
     "output_type": "stream",
     "text": [
      "This is an error\n"
     ]
    }
   ],
   "source": [
    "if True:\n",
    "    print('This is an error')"
   ]
  },
  {
   "cell_type": "markdown",
   "id": "c32109e6-c19c-4a7f-a22c-17493771fd47",
   "metadata": {},
   "source": [
    "#### IF ELSE <a class=\"anchor\" id=\"if-else\"></a>"
   ]
  },
  {
   "cell_type": "markdown",
   "id": "2e3808a1-8214-4a85-be1b-501cb2b6cebb",
   "metadata": {},
   "source": [
    "- This is a statement with one alternative option"
   ]
  },
  {
   "cell_type": "code",
   "execution_count": 6,
   "id": "2bb1b713-f1a2-4fd1-a149-549562fdae96",
   "metadata": {},
   "outputs": [
    {
     "name": "stdout",
     "output_type": "stream",
     "text": [
      "x is not greater than 5\n"
     ]
    }
   ],
   "source": [
    "x = 3\n",
    "if x > 5:\n",
    "    print(\"x is greater than 5\")\n",
    "else:\n",
    "    print(\"x is not greater than 5\")\n"
   ]
  },
  {
   "cell_type": "markdown",
   "id": "576c36d0-6113-4d82-8394-2d71f2d5d537",
   "metadata": {},
   "source": [
    "#### IF ELIF ELSE<a class=\"anchor\" id=\"if-elif-else\"></a>"
   ]
  },
  {
   "cell_type": "markdown",
   "id": "9268cc24-4067-4225-bba6-0e08511f2661",
   "metadata": {},
   "source": [
    "- This is a statement with more than one options"
   ]
  },
  {
   "cell_type": "code",
   "execution_count": 7,
   "id": "9c650fb8-c2db-468c-bf0b-cd92c4a7b34a",
   "metadata": {},
   "outputs": [
    {
     "name": "stdout",
     "output_type": "stream",
     "text": [
      "x is greater than 10 but not greater than 15\n"
     ]
    }
   ],
   "source": [
    "x = 12\n",
    "if x > 15:\n",
    "    print(\"x is greater than 15\")\n",
    "elif x > 10:\n",
    "    print(\"x is greater than 10 but not greater than 15\")\n",
    "else:\n",
    "    print(\"x is not greater than 10\")"
   ]
  },
  {
   "cell_type": "markdown",
   "id": "12340e95-cb9b-46a6-bd44-cc9817781e18",
   "metadata": {},
   "source": [
    "#### RANGE<a class=\"anchor\" id=\"range\"></a>"
   ]
  },
  {
   "cell_type": "markdown",
   "id": "5a8162c2-54b3-406d-9b2c-894afb5409bb",
   "metadata": {},
   "source": [
    "- Basic range with one argument:\n",
    "\n",
    "The simplest form of the range() function takes one argument, which represents the end value (exclusive) of the sequence. It starts from 0 by default and increments by 1."
   ]
  },
  {
   "cell_type": "code",
   "execution_count": 8,
   "id": "d6c22bcf-8c30-4129-b673-f99ec825e5ad",
   "metadata": {},
   "outputs": [
    {
     "name": "stdout",
     "output_type": "stream",
     "text": [
      "0\n",
      "1\n",
      "2\n",
      "3\n",
      "4\n"
     ]
    }
   ],
   "source": [
    "# Example 1: Printing numbers from 0 to 4\n",
    "for num in range(5):\n",
    "    print(num)"
   ]
  },
  {
   "cell_type": "markdown",
   "id": "0133c0ff-a2b7-4c45-a8c0-28fe707e632c",
   "metadata": {},
   "source": [
    "- Range with two arguments (start, stop):\n",
    "\n",
    "The range() function can also take two arguments, where the first argument represents the starting value, and the second argument represents the end value (exclusive)."
   ]
  },
  {
   "cell_type": "code",
   "execution_count": 9,
   "id": "722a1509-dffc-4d78-aa33-f2a7802e4d06",
   "metadata": {},
   "outputs": [
    {
     "name": "stdout",
     "output_type": "stream",
     "text": [
      "5\n",
      "6\n",
      "7\n",
      "8\n",
      "9\n"
     ]
    }
   ],
   "source": [
    "# Example 2: Printing numbers from 5 to 9\n",
    "for num in range(5, 10):\n",
    "    print(num)"
   ]
  },
  {
   "cell_type": "markdown",
   "id": "2fcc6158-324c-47a8-ab73-a79691df1338",
   "metadata": {},
   "source": [
    "- Range with three arguments (start, stop, step):\n",
    "\n",
    "The range() function can take three arguments: the starting value, the ending value (exclusive), and the step size. The step size defines the increment between each value in the sequence."
   ]
  },
  {
   "cell_type": "code",
   "execution_count": 12,
   "id": "97e654ed-674a-4b84-8325-6bb5725bc908",
   "metadata": {},
   "outputs": [
    {
     "name": "stdout",
     "output_type": "stream",
     "text": [
      "0\n",
      "2\n",
      "4\n",
      "6\n",
      "8\n",
      "10\n",
      "12\n"
     ]
    }
   ],
   "source": [
    "# Example 3: Printing even numbers from 0 to 10\n",
    "for num in range(0, 13, 2):\n",
    "    print(num)"
   ]
  },
  {
   "cell_type": "markdown",
   "id": "34f7cc9c-c34d-4322-a55f-cf5e4c2ce565",
   "metadata": {},
   "source": [
    "#### TRUE STATEMENT<a class=\"anchor\" id=\"true-statement\"></a>"
   ]
  },
  {
   "cell_type": "code",
   "execution_count": 13,
   "id": "fc4bb9b6-d458-4623-b85e-b1a73f824bef",
   "metadata": {},
   "outputs": [
    {
     "name": "stdout",
     "output_type": "stream",
     "text": [
      "This will always be executed\n"
     ]
    }
   ],
   "source": [
    "x = 5\n",
    "if True:\n",
    "    print(\"This will always be executed\")"
   ]
  },
  {
   "cell_type": "markdown",
   "id": "dbb1855b-06f9-4b61-a956-f024314831ba",
   "metadata": {},
   "source": [
    "#### WHILE STATEMENT<a class=\"anchor\" id=\"while\"></a>"
   ]
  },
  {
   "cell_type": "code",
   "execution_count": 14,
   "id": "f2443484-c7e1-4ba5-90b3-84d83807ba68",
   "metadata": {},
   "outputs": [
    {
     "name": "stdout",
     "output_type": "stream",
     "text": [
      "Count: 0\n",
      "Count: 1\n",
      "Count: 2\n",
      "Count: 3\n",
      "Count: 4\n"
     ]
    }
   ],
   "source": [
    "count = 0\n",
    "while count < 5:\n",
    "    print(\"Count:\", count)\n",
    "    count += 1"
   ]
  },
  {
   "cell_type": "markdown",
   "id": "09c71b92-509f-452b-9201-ff6bebae28b0",
   "metadata": {},
   "source": [
    "#### WHILE DO STATEMENT<a class=\"anchor\" id=\"while-do\"></a>"
   ]
  },
  {
   "cell_type": "code",
   "execution_count": 17,
   "id": "40f63de1-366d-4178-9d24-9b0413a9f632",
   "metadata": {},
   "outputs": [
    {
     "name": "stdout",
     "output_type": "stream",
     "text": [
      "Count: 0\n",
      "Count: 1\n",
      "Count: 2\n",
      "Count: 3\n",
      "Count: 4\n"
     ]
    }
   ],
   "source": [
    "count = 0\n",
    "while True:\n",
    "    print(\"Count:\", count)\n",
    "    count += 1\n",
    "    if count >= 5:\n",
    "        break\n"
   ]
  },
  {
   "cell_type": "markdown",
   "id": "2e9f60fe-65ac-4515-b651-ad0bf0860dc1",
   "metadata": {},
   "source": [
    "- While True"
   ]
  },
  {
   "cell_type": "code",
   "execution_count": 18,
   "id": "8acfc631-7c28-4f91-8740-958ed055da7e",
   "metadata": {},
   "outputs": [
    {
     "name": "stdin",
     "output_type": "stream",
     "text": [
      "Enter a number:  56\n"
     ]
    },
    {
     "name": "stdout",
     "output_type": "stream",
     "text": [
      "You entered: 56\n"
     ]
    },
    {
     "name": "stdin",
     "output_type": "stream",
     "text": [
      "Enter a number:  67\n"
     ]
    },
    {
     "name": "stdout",
     "output_type": "stream",
     "text": [
      "You entered: 67\n"
     ]
    },
    {
     "name": "stdin",
     "output_type": "stream",
     "text": [
      "Enter a number:  quit\n"
     ]
    }
   ],
   "source": [
    "while True:\n",
    "    user_input = input(\"Enter a number: \")\n",
    "    if user_input.lower() == 'quit':\n",
    "        break\n",
    "    print(\"You entered:\", user_input)"
   ]
  },
  {
   "cell_type": "markdown",
   "id": "0c7e31c6-9490-40a2-ae76-7573385ff09b",
   "metadata": {},
   "source": [
    "### BREAK, CONTINUE & PASS<a class=\"anchor\" id=\"break-continue\"></a>"
   ]
  },
  {
   "cell_type": "markdown",
   "id": "44abbe0d-7b5b-4f4b-809e-a37bcdddcdbf",
   "metadata": {},
   "source": [
    "#### Break"
   ]
  },
  {
   "cell_type": "markdown",
   "id": "51d38b28-6c8f-490c-aaeb-c98dd0187ecd",
   "metadata": {},
   "source": [
    "Example of break:\n",
    "The break statement is used to exit a loop prematurely, without completing the entire iteration."
   ]
  },
  {
   "cell_type": "code",
   "execution_count": 20,
   "id": "20b8662f-d43f-4fc2-9365-be79fe09a1ce",
   "metadata": {},
   "outputs": [
    {
     "name": "stdout",
     "output_type": "stream",
     "text": [
      "Found the first even number: 2\n",
      "Found the first even number: 4\n",
      "Found the first even number: 6\n",
      "Found the first even number: 8\n",
      "Found the first even number: 10\n"
     ]
    }
   ],
   "source": [
    "# Find the first even number and exit the loop\n",
    "for num in range(1, 11):\n",
    "    if num % 2 == 0:\n",
    "        print(f\"Found the first even number: {num}\")\n",
    "        break"
   ]
  },
  {
   "cell_type": "markdown",
   "id": "2a15f22d-c6f0-4b22-a95e-6b470bc1000f",
   "metadata": {},
   "source": [
    "#### Continue"
   ]
  },
  {
   "cell_type": "markdown",
   "id": "9615e96e-7c6b-4b02-855a-f0bf36e8bbb2",
   "metadata": {},
   "source": [
    "Example of continue:\n",
    "The continue statement is used to skip the rest of the current iteration and proceed to the next iteration of the loop"
   ]
  },
  {
   "cell_type": "code",
   "execution_count": 21,
   "id": "4525257a-32a6-4c29-8ba1-cd07be8d3a9a",
   "metadata": {},
   "outputs": [
    {
     "name": "stdout",
     "output_type": "stream",
     "text": [
      "Even number: 2\n",
      "Even number: 4\n",
      "Even number: 6\n",
      "Even number: 8\n",
      "Even number: 10\n",
      "Even number: 12\n"
     ]
    }
   ],
   "source": [
    "# Skip odd numbers and print only even numbers\n",
    "for num in range(1, 13):\n",
    "    if num % 2 != 0:\n",
    "        continue\n",
    "    print(f\"Even number: {num}\")\n"
   ]
  },
  {
   "cell_type": "markdown",
   "id": "3c0c57fe-62c0-472e-8eca-25dcf9bb0bb7",
   "metadata": {},
   "source": [
    "#### Pass"
   ]
  },
  {
   "cell_type": "markdown",
   "id": "7f243093-2cbd-4e9e-a716-0184b4cd7c62",
   "metadata": {},
   "source": [
    "Example of Pass: The pass statement is used as a placeholder when a statement is syntactically required but does nothing."
   ]
  },
  {
   "cell_type": "code",
   "execution_count": 22,
   "id": "ac6bdf4e-7483-4f5c-98ae-655d787eca99",
   "metadata": {},
   "outputs": [],
   "source": [
    "# A loop that does nothing\n",
    "for i in range(5):\n",
    "    pass"
   ]
  },
  {
   "cell_type": "markdown",
   "id": "e080900b-8cb8-4341-b9a5-c381c49045a6",
   "metadata": {},
   "source": [
    "#### Combining Super breaks"
   ]
  },
  {
   "cell_type": "code",
   "execution_count": null,
   "id": "d97e6e8c-01e1-46a0-be5b-5aecfbc09f59",
   "metadata": {},
   "outputs": [
    {
     "name": "stdout",
     "output_type": "stream",
     "text": [
      "Even number: 1\n",
      "Even number: 3\n",
      "Even number: 5\n"
     ]
    }
   ],
   "source": [
    "# Skip odd numbers and stop the loop at 7\n",
    "for num in range(1, 11):\n",
    "    if num == 7:\n",
    "        break\n",
    "    if num % 2 != 0:\n",
    "        continue\n",
    "    print(f\"Even number: {num}\")\n"
   ]
  },
  {
   "cell_type": "code",
   "execution_count": 9,
   "id": "66372ffa-d530-4726-9286-946273f4c26e",
   "metadata": {},
   "outputs": [
    {
     "name": "stdout",
     "output_type": "stream",
     "text": [
      "Even number: 2\n",
      "Even number: 4\n",
      "Even number: 6\n"
     ]
    }
   ],
   "source": [
    "# Skip odd numbers and stop the loop at 7\n",
    "for num in range(1, 11):\n",
    "    if num == 7:\n",
    "        break\n",
    "    if num % 2 != 0:\n",
    "        continue\n",
    "    print(f\"Even number: {num}\")\n"
   ]
  },
  {
   "cell_type": "code",
   "execution_count": null,
   "id": "ccf5e827-b945-4de4-a605-3dfcc2b042c2",
   "metadata": {},
   "outputs": [],
   "source": [
    "# Breaking out of nested loops\n",
    "for i in range(1, 4):\n",
    "    for j in range(1, 4):\n",
    "        if i + j == 4:\n",
    "            print(f\"Found the sum 4: ({i}, {j})\")\n",
    "            break"
   ]
  },
  {
   "cell_type": "code",
   "execution_count": null,
   "id": "edc167a8-7821-4c07-8327-eb0c7969e17d",
   "metadata": {},
   "outputs": [],
   "source": [
    "# Skipping iterations in nested loops\n",
    "for i in range(1, 4):\n",
    "    for j in range(1, 4):\n",
    "        if i == j:\n",
    "            continue\n",
    "        print(f\"({i}, {j})\")"
   ]
  },
  {
   "cell_type": "code",
   "execution_count": null,
   "id": "dfb16b11-e8f6-4cf3-970c-1c448ba8f254",
   "metadata": {},
   "outputs": [],
   "source": [
    "# Using break in a while loop\n",
    "num = 1\n",
    "while True:\n",
    "    print(num)\n",
    "    num += 1\n",
    "    if num > 5:\n",
    "        break"
   ]
  },
  {
   "cell_type": "code",
   "execution_count": null,
   "id": "b1390a56-4f97-475d-946a-8b04d5a8b4cc",
   "metadata": {},
   "outputs": [],
   "source": [
    "# Using continue in a while loop\n",
    "num = 0\n",
    "while num < 5:\n",
    "    num += 1\n",
    "    if num % 2 == 0:\n",
    "        continue\n",
    "    print(f\"Odd number: {num}\")"
   ]
  },
  {
   "cell_type": "code",
   "execution_count": null,
   "id": "aeb72bed-7b05-4b47-9c9c-5157086df002",
   "metadata": {},
   "outputs": [],
   "source": []
  },
  {
   "cell_type": "markdown",
   "id": "3ac1fa3d-4bc8-47a1-a0fd-1b473d72e534",
   "metadata": {},
   "source": [
    "### TRY <a class=\"anchor\" id=\"loop-in-dict\"></a>"
   ]
  },
  {
   "cell_type": "code",
   "execution_count": 25,
   "id": "5bc78911-2ec8-48d8-9fd5-92ce5586f893",
   "metadata": {},
   "outputs": [
    {
     "ename": "ZeroDivisionError",
     "evalue": "division by zero",
     "output_type": "error",
     "traceback": [
      "\u001b[1;31m---------------------------------------------------------------------------\u001b[0m",
      "\u001b[1;31mZeroDivisionError\u001b[0m                         Traceback (most recent call last)",
      "Input \u001b[1;32mIn [25]\u001b[0m, in \u001b[0;36m<cell line: 1>\u001b[1;34m()\u001b[0m\n\u001b[1;32m----> 1\u001b[0m \u001b[38;5;241;43m10\u001b[39;49m\u001b[38;5;241;43m/\u001b[39;49m\u001b[38;5;241;43m0\u001b[39;49m\n",
      "\u001b[1;31mZeroDivisionError\u001b[0m: division by zero"
     ]
    }
   ],
   "source": [
    "10/0"
   ]
  },
  {
   "cell_type": "code",
   "execution_count": 24,
   "id": "bd2b909d-ce55-4d13-9037-92786c603cb5",
   "metadata": {},
   "outputs": [
    {
     "name": "stdout",
     "output_type": "stream",
     "text": [
      "Cannot divide by zero!\n"
     ]
    }
   ],
   "source": [
    "try:\n",
    "    result = 10 / 0\n",
    "except ZeroDivisionError:\n",
    "    print(\"Cannot divide by zero!\")\n"
   ]
  },
  {
   "cell_type": "markdown",
   "id": "9bf13bcd-0e2a-4f8a-847b-d4856420783f",
   "metadata": {},
   "source": [
    "### TRY EXCEPT<a class=\"anchor\" id=\"loop-in-dict\"></a>"
   ]
  },
  {
   "cell_type": "code",
   "execution_count": 27,
   "id": "60dc3817-bec7-4b21-a75c-85e2a4ae84d6",
   "metadata": {},
   "outputs": [
    {
     "name": "stdin",
     "output_type": "stream",
     "text": [
      "Enter an integer:  r\n"
     ]
    },
    {
     "name": "stdout",
     "output_type": "stream",
     "text": [
      "Invalid input. Please enter a valid integer.\n"
     ]
    }
   ],
   "source": [
    "try:\n",
    "    num = int(input(\"Enter an integer: \"))\n",
    "except ValueError:\n",
    "    print(\"Invalid input. Please enter a valid integer.\")\n"
   ]
  },
  {
   "cell_type": "markdown",
   "id": "e2e49deb-4a90-442d-a187-b4e1721b692e",
   "metadata": {},
   "source": [
    "### FOR <a class=\"anchor\" id=\"loop-in-dict\"></a>"
   ]
  },
  {
   "cell_type": "code",
   "execution_count": 30,
   "id": "0a41f498-6872-47f0-8913-a4d018705b16",
   "metadata": {},
   "outputs": [
    {
     "name": "stdout",
     "output_type": "stream",
     "text": [
      "apple\n",
      "banana\n",
      "cherry\n"
     ]
    }
   ],
   "source": [
    "fruits = [\"apple\", \"banana\", \"cherry\"]\n",
    "for fruit in fruits:\n",
    "    print(fruit)\n"
   ]
  },
  {
   "cell_type": "markdown",
   "id": "ab20e919-7669-4924-91b5-fae3ac639a86",
   "metadata": {},
   "source": [
    "### FOR AND RANGE <a class=\"anchor\" id=\"loop-in-dict\"></a>"
   ]
  },
  {
   "cell_type": "code",
   "execution_count": 31,
   "id": "ec03abde-2cbb-4323-b887-dbe4995de8db",
   "metadata": {},
   "outputs": [
    {
     "name": "stdout",
     "output_type": "stream",
     "text": [
      "1\n",
      "2\n"
     ]
    }
   ],
   "source": [
    "for i in range(1, 6):\n",
    "    if i == 3:\n",
    "        break\n",
    "    print(i)\n",
    "\n"
   ]
  },
  {
   "cell_type": "code",
   "execution_count": 32,
   "id": "6562e848-9a34-4313-a7f8-7b45e5b2b3d7",
   "metadata": {},
   "outputs": [
    {
     "name": "stdout",
     "output_type": "stream",
     "text": [
      "1\n",
      "2\n",
      "4\n",
      "5\n"
     ]
    }
   ],
   "source": [
    "for i in range(1, 6):\n",
    "    if i == 3:\n",
    "        continue\n",
    "    print(i)\n"
   ]
  },
  {
   "cell_type": "markdown",
   "id": "3309ae19-ac01-46a6-9503-8c79db894a51",
   "metadata": {},
   "source": [
    "### MATCH <a class=\"anchor\" id=\"loop-in-dict\"></a>"
   ]
  },
  {
   "cell_type": "code",
   "execution_count": 39,
   "id": "2edf6e4a-7759-40b4-a35e-bc0a57e841ac",
   "metadata": {},
   "outputs": [
    {
     "ename": "IndentationError",
     "evalue": "unindent does not match any outer indentation level (<tokenize>, line 21)",
     "output_type": "error",
     "traceback": [
      "\u001b[1;36m  File \u001b[1;32m<tokenize>:21\u001b[1;36m\u001b[0m\n\u001b[1;33m    return \"Invalid day number\"\u001b[0m\n\u001b[1;37m    ^\u001b[0m\n\u001b[1;31mIndentationError\u001b[0m\u001b[1;31m:\u001b[0m unindent does not match any outer indentation level\n"
     ]
    }
   ],
   "source": [
    "# Note: The match statement was introduced in Python 3.10.\n",
    "# This example may not work in earlier Python versions.\n",
    "\n",
    "def get_day_name(day_number):\n",
    "    \n",
    "    match day_number:\n",
    "        case 1:\n",
    "            return \"Monday\"\n",
    "        case 2:\n",
    "            return \"Tuesday\"\n",
    "        case 3:\n",
    "            return \"Wednesday\"\n",
    "        case 4:\n",
    "            return \"Thursday\"\n",
    "        case 5:\n",
    "            return \"Friday\"\n",
    "        case 6:\n",
    "            return \"Saturday\"\n",
    "        case 7:\n",
    "            return \"Sunday\"\n",
    "        case _:\n",
    "            return \"Invalid day number\"\n",
    "\n",
    "print(get_day_name(3))  # Output: Wednesday\n",
    "print(get_day_name(9))  # Output: Invalid day number\n"
   ]
  },
  {
   "cell_type": "code",
   "execution_count": null,
   "id": "dc42a3ec-6423-4871-9704-5218e981ecea",
   "metadata": {},
   "outputs": [],
   "source": []
  },
  {
   "cell_type": "code",
   "execution_count": null,
   "id": "903d6360-089c-476b-b12c-5547f296410e",
   "metadata": {},
   "outputs": [],
   "source": []
  }
 ],
 "metadata": {
  "kernelspec": {
   "display_name": "Python 3 (ipykernel)",
   "language": "python",
   "name": "python3"
  },
  "language_info": {
   "codemirror_mode": {
    "name": "ipython",
    "version": 3
   },
   "file_extension": ".py",
   "mimetype": "text/x-python",
   "name": "python",
   "nbconvert_exporter": "python",
   "pygments_lexer": "ipython3",
   "version": "3.9.12"
  }
 },
 "nbformat": 4,
 "nbformat_minor": 5
}
