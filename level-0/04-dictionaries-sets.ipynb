{
 "cells": [
  {
   "cell_type": "markdown",
   "id": "ca5541ff-a99b-470c-b839-826f768c576e",
   "metadata": {},
   "source": [
    "# SET AND DICTIONARIES"
   ]
  },
  {
   "cell_type": "markdown",
   "id": "7d965bce-45f4-41ae-84d1-94fc9614eba3",
   "metadata": {},
   "source": [
    "## TABLE OF CONTENT\n",
    "\n",
    "|S/N| CONTENT                                              |\n",
    "|---|----------------------------------------------------- |\n",
    "|1| [SET](#set)                                            |\n",
    "|2| [SET METHODS](#set-operations)                         |\n",
    "|3| [DICTIONARIES](#dict)                                  |\n",
    "|4| [DICTIONARIES METHODS](#dict-operations)               |\n",
    "|5| [SWITCHING AND COMBINATION OF DICT](#loop-in-dict)     | \n",
    "|6| [REFERENCE](#reference)                                |"
   ]
  },
  {
   "cell_type": "markdown",
   "id": "82bdffd6-5730-4b43-a5be-5ddc8dd1fab3",
   "metadata": {},
   "source": [
    "## Ground Rules to Follow"
   ]
  },
  {
   "attachments": {
    "5b98258e-e038-4278-a3ed-183b02a5a7ee.PNG": {
     "image/png": "[encoded data removed]"
    }
   },
   "cell_type": "markdown",
   "id": "3ec165fb-f227-4c90-9618-ec41d6ab93ea",
   "metadata": {},
   "source": [
    "- Sign up on [Ananconda Cloud](https://anaconda.cloud/)\n",
    "- Navigate to you notebook side of the website.\n",
    "- ![capture.PNG](attachment:5b98258e-e038-4278-a3ed-183b02a5a7ee.PNG)\n",
    "- Create a folder and import the files from the Team's folder.\n",
    "- Run your notebook along."
   ]
  },
  {
   "cell_type": "markdown",
   "id": "bbecde1d-a6b9-4555-a39c-b85c2a6546bf",
   "metadata": {
    "tags": []
   },
   "source": [
    "### SET <a class=\"anchor\" id=\"set\"></a>"
   ]
  },
  {
   "cell_type": "markdown",
   "id": "5eb97d63-5b50-435b-bbae-2a86570ae987",
   "metadata": {},
   "source": [
    "#### What is a Set?"
   ]
  },
  {
   "cell_type": "markdown",
   "id": "22b01abc-3604-4098-b21e-f0a1679276eb",
   "metadata": {},
   "source": [
    "- A Python set is also similar to a list, except it is unordered. It can store heterogeneous data and it is mutable, but what does it mean to be unordered? \n",
    "The simplest explanation is simply to look at an example. We can create a set by enclosing our data with curly brackets {}."
   ]
  },
  {
   "cell_type": "code",
   "execution_count": 6,
   "id": "9a80bb1b-14b9-4840-a174-32fc82733d85",
   "metadata": {},
   "outputs": [
    {
     "name": "stdout",
     "output_type": "stream",
     "text": [
      "{'Dylan', 26, 167.6}\n"
     ]
    }
   ],
   "source": [
    "example_set = {'Dylan', 26, 167.6}\n",
    "print(example_set)"
   ]
  },
  {
   "cell_type": "code",
   "execution_count": 1,
   "id": "c6f43047-9d9f-4873-ba64-11d5748f622d",
   "metadata": {},
   "outputs": [
    {
     "name": "stdout",
     "output_type": "stream",
     "text": [
      "{'apple', 'orange', 'pear', 'banana'}\n"
     ]
    }
   ],
   "source": [
    "basket = {'apple', 'orange', 'apple', 'pear', 'orange', 'banana'}\n",
    "print(basket)    "
   ]
  },
  {
   "cell_type": "markdown",
   "id": "55e43b4d-5140-4d5a-bc74-6983f813ffb0",
   "metadata": {
    "tags": []
   },
   "source": [
    "### SET METHODS <a class=\"anchor\" id=\"set-operations\"></a>"
   ]
  },
  {
   "cell_type": "markdown",
   "id": "31dc460a-7926-4381-9a0b-2d44df07dac8",
   "metadata": {},
   "source": [
    "#### Querying a set"
   ]
  },
  {
   "cell_type": "code",
   "execution_count": null,
   "id": "02ea65f5-b458-49f8-9618-49f5c0ab5ca8",
   "metadata": {},
   "outputs": [],
   "source": [
    "'orange' in basket "
   ]
  },
  {
   "cell_type": "markdown",
   "id": "0e8bfc5d-d0fc-4dc5-888f-139f3db1dc89",
   "metadata": {},
   "source": [
    "#### Adding to a set"
   ]
  },
  {
   "cell_type": "markdown",
   "id": "427a3685-3728-4c9f-9c49-978cd484cb80",
   "metadata": {},
   "source": [
    "- The add method of a set works similarly to the append method of a list. The update method of a set works similarly to the extend method of a list"
   ]
  },
  {
   "cell_type": "code",
   "execution_count": 7,
   "id": "30b0ce54-73bb-4f56-9cb9-caf961573d94",
   "metadata": {},
   "outputs": [
    {
     "name": "stdout",
     "output_type": "stream",
     "text": [
      "{'True', 'Dylan', 26, 167.6}\n"
     ]
    }
   ],
   "source": [
    "example_set.add('True')\n",
    "print(example_set)"
   ]
  },
  {
   "cell_type": "markdown",
   "id": "dc7a6ecf-b08f-4b36-8508-51c2af0a3ff8",
   "metadata": {},
   "source": [
    "#### Update to a set"
   ]
  },
  {
   "cell_type": "code",
   "execution_count": null,
   "id": "798753d1-0259-458e-987f-701c50545881",
   "metadata": {},
   "outputs": [],
   "source": [
    "example_set.update([58.1, 'brown'])\n",
    "print(example_set)"
   ]
  },
  {
   "cell_type": "markdown",
   "id": "f26fc1b0-743b-4491-a743-86ef6dfb8b8e",
   "metadata": {},
   "source": [
    "#### Deleting an element in  a set"
   ]
  },
  {
   "cell_type": "code",
   "execution_count": 3,
   "id": "e84452ea-dc5a-4760-a5d5-3609eba19367",
   "metadata": {},
   "outputs": [
    {
     "ename": "TypeError",
     "evalue": "'set' object doesn't support item deletion",
     "output_type": "error",
     "traceback": [
      "\u001b[1;31m---------------------------------------------------------------------------\u001b[0m",
      "\u001b[1;31mTypeError\u001b[0m                                 Traceback (most recent call last)",
      "Input \u001b[1;32mIn [3]\u001b[0m, in \u001b[0;36m<cell line: 1>\u001b[1;34m()\u001b[0m\n\u001b[1;32m----> 1\u001b[0m \u001b[38;5;28;01mdel\u001b[39;00m basket[\u001b[38;5;241m0\u001b[39m]\n",
      "\u001b[1;31mTypeError\u001b[0m: 'set' object doesn't support item deletion"
     ]
    }
   ],
   "source": [
    "print(example_set.pop())"
   ]
  },
  {
   "cell_type": "markdown",
   "id": "8c50d7d1-1026-4aa4-9ae8-2d2e9f26f47e",
   "metadata": {},
   "source": [
    "#### Operations in set"
   ]
  },
  {
   "cell_type": "code",
   "execution_count": null,
   "id": "a23fafd1-1ef8-41ab-8b6c-c4ddb5b59b99",
   "metadata": {},
   "outputs": [],
   "source": [
    "student_a_courses = {'history', 'english', 'biology', 'theatre'}\n",
    "student_b_courses = {'biology', 'english', 'mathematics', 'computer science'}\n",
    "\n",
    "print(student_a_courses.intersection(student_b_courses))\n",
    "print(student_a_courses.union(student_b_courses))\n",
    "print(student_a_courses.difference(student_b_courses))\n",
    "print(student_b_courses.difference(student_a_courses))\n",
    "print(student_a_courses.symmetric_difference(student_b_courses))"
   ]
  },
  {
   "cell_type": "code",
   "execution_count": null,
   "id": "25c3ee72-8edf-4588-b2ce-db058e8a45bd",
   "metadata": {},
   "outputs": [],
   "source": [
    "a = set('abracadabra')\n",
    "b = set('alacazam')\n",
    "a                                  # unique letters in a\n",
    "{'a', 'r', 'b', 'c', 'd'}\n",
    "a - b                              # letters in a but not in b\n",
    "{'r', 'd', 'b'}\n",
    "a | b                              # letters in a or b or both\n",
    "{'a', 'c', 'r', 'd', 'b', 'm', 'z', 'l'}\n",
    "a & b                              # letters in both a and b\n",
    "{'a', 'c'}\n",
    "a ^ b                              # letters in a or b but not both\n",
    "{'r', 'd', 'b', 'm', 'z', 'l'}"
   ]
  },
  {
   "cell_type": "markdown",
   "id": "5d2812ba-f0bd-4ece-aa50-470562f4f5d2",
   "metadata": {},
   "source": [
    "#### Why is set useful?"
   ]
  },
  {
   "cell_type": "markdown",
   "id": "c9d90a82-dcd7-4554-b991-7d69280c6979",
   "metadata": {},
   "source": [
    "It seems strange that we might want an unordered data structure. We can't access or modify the data through indexing. How does giving up order benefit us? \n",
    "The answer is that it gives us flexibility about how the data is stored in memory, and that flexibility can make data retrieval much faster.\n",
    "\n",
    "Imagine we have ten boxes and ten piles of money. We put the ten piles of money in the ten boxes. Now say we want to find the box that has $5.37 in it.\n",
    "We don't know which box this is, so we start with the first box and check. If it isn't in the first box, we move on to the second box. \n",
    "We keep checking boxes until we find it. This might take awhile.\n",
    "\n",
    "Now imagine we have the same ten piles of money, but we have 31 boxes. Instead of putting each pile of money into the boxes in order, \n",
    "instead put each pile into a box based on the amount of money in the pile. First we multiply the amount of money by 100, and then take modulus division by 31.\n",
    "This gives the number of the box we should put the pile of money in."
   ]
  },
  {
   "cell_type": "code",
   "execution_count": null,
   "id": "c9c27579-f99b-4b0e-950e-add91bbba98d",
   "metadata": {},
   "outputs": [],
   "source": [
    "piles = [2.83, 8.23, 9.38, 10.23, 25.58, 0.42, 5.37, 28.10, 32.14, 7.31]"
   ]
  },
  {
   "cell_type": "code",
   "execution_count": null,
   "id": "c88357b1-980c-4ca6-bf1a-a1a2d709e1d0",
   "metadata": {},
   "outputs": [],
   "source": [
    "def hash_function(x):\n",
    "    return int(x * 100 % 31)\n",
    "\n",
    "[hash_function(pile) for pile in piles]"
   ]
  },
  {
   "cell_type": "code",
   "execution_count": null,
   "id": "5610db27-7ab7-4331-b7d3-82182758d0a5",
   "metadata": {},
   "outputs": [],
   "source": [
    "sum([hash_function(pile) for pile in piles])"
   ]
  },
  {
   "cell_type": "code",
   "execution_count": null,
   "id": "cfa11179-c339-4cf2-83b1-0801075ab0be",
   "metadata": {},
   "outputs": [],
   "source": [
    "#Now say we want to find the box with \\$5.37 in it. We don't have to search through box after box. We can compute:\n",
    "print(int(5.37 * 100 % 31))"
   ]
  },
  {
   "attachments": {
    "dac833f5-af74-43fb-99fd-7438fa925cc7.PNG": {
     "image/png": "[encoded data removed]"
    }
   },
   "cell_type": "markdown",
   "id": "4ca6013e-bd0b-4d2b-8e80-1a79db201bcb",
   "metadata": {},
   "source": [
    "![set-box.PNG](attachment:dac833f5-af74-43fb-99fd-7438fa925cc7.PNG)"
   ]
  },
  {
   "cell_type": "markdown",
   "id": "15d73d42-3a4d-4090-861f-751b37afa673",
   "metadata": {},
   "source": [
    "-Box number 10 contains the \\$5.37 pile.\n",
    "\n",
    "This technique of assigning boxes (i.e. memory) based on the object it contains is called **hashing**. It makes searching for data very fast (as we've illustrated), but at the cost of increase memory allocation (we needed more boxes). It also means that we cannot assign an order to the objects as they are stored in memory.\n",
    "\n",
    "Hashing also puts two major restrictions on the `set`. First of all, objects in a `set` must be immutable. If an object were to change, its position in memory would no longer correspond with its **hash**. Secondly, the objects in a `set` must be unique. Identical objects end up with the same hash. Since we can't store multiple objects in the same chunk of memory, we simply discard any duplicates.\n",
    "\n",
    "This second restriction means we can use a `set` to easily determine the unique objects in a `list` or `tuple`.\n",
    "- suppose we have 50 boxes with with we want to put in 10 piles of money, we can use the code below"
   ]
  },
  {
   "cell_type": "code",
   "execution_count": null,
   "id": "d218ed29-1491-4438-a119-b91f116078f5",
   "metadata": {},
   "outputs": [],
   "source": [
    "def hash_function(x):\n",
    "    return int(x * 100 % 50)\n",
    "\n",
    "[hash_function(pile) for pile in piles]"
   ]
  },
  {
   "cell_type": "code",
   "execution_count": null,
   "id": "9a52aab9-cd2a-4ba3-b85f-13dc6e469a84",
   "metadata": {},
   "outputs": [],
   "source": [
    "(print (int(7.3 *100 % 50)))"
   ]
  },
  {
   "cell_type": "markdown",
   "id": "dc1ab956-137b-4ab7-a1cb-aa787f998200",
   "metadata": {},
   "source": [
    "##### Set Comprehension"
   ]
  },
  {
   "cell_type": "code",
   "execution_count": null,
   "id": "862e5307-eac2-4c8f-8e09-999bfe72dd47",
   "metadata": {},
   "outputs": [],
   "source": [
    "a = {x for x in 'abracadabra' if x not in 'abc'}\n",
    "a"
   ]
  },
  {
   "cell_type": "markdown",
   "id": "c3cfa135-71e7-4e8a-934c-b9dede7fec8b",
   "metadata": {},
   "source": [
    "### DICTIONARIES <a class=\"anchor\" id=\"dict\"></a>"
   ]
  },
  {
   "cell_type": "markdown",
   "id": "c292ea2d-22af-4d56-911c-842dcce795a9",
   "metadata": {},
   "source": [
    "#### What are Dictionaries?"
   ]
  },
  {
   "cell_type": "markdown",
   "id": "17897be4-a9cf-4685-9e8b-15ee0b03fa2d",
   "metadata": {},
   "source": [
    "- Dictionaries are sometimes found in other languages as “associative memories” or “associative arrays”.\n",
    "- Unlike sequences, which are indexed by a range of numbers, dictionaries are indexed by keys, which can be any immutable type; strings and numbers can always be keys. \n",
    "- To understand the Python dict, let's start again with the Python list."
   ]
  },
  {
   "cell_type": "code",
   "execution_count": null,
   "id": "7598b27f-3781-4723-87bd-b7581d89abd3",
   "metadata": {},
   "outputs": [],
   "source": [
    "me = ['chisom', 25, 175.6, 60.1, 'black', 'grey', True]"
   ]
  },
  {
   "cell_type": "markdown",
   "id": "704ee4e6-360e-4b61-a370-e044297251f1",
   "metadata": {},
   "source": [
    "- This list describes me: my name, my age, my height (in centimeters), my weight (in kilograms), my hair color, my eye color, and whether or not I have a dog. \n",
    "- We know we can access this information individually by index."
   ]
  },
  {
   "cell_type": "code",
   "execution_count": null,
   "id": "66c7bbb1-97f4-4bbd-bdc1-c14a9284660f",
   "metadata": {},
   "outputs": [],
   "source": [
    "print('My name is %s' % me[0])\n",
    "print('I have %s hair' % me[4])"
   ]
  },
  {
   "cell_type": "code",
   "execution_count": null,
   "id": "7bce895e-4fe3-49c1-ac7d-9916eeb87be4",
   "metadata": {},
   "outputs": [],
   "source": [
    "It would be easy to get mixed up about which data is which (for example, which 'brown' is hair color and which is eye color?), or where I should find it (will age always be at index 1?).\n",
    "\n",
    "A better solution would be a data structure where we could index using meaningful values. For example instead of using me[0] to recover Dylan, I could use me['name']. \n",
    "Instead of hair color being me[4], it could be me['hair']. This feature is the central characteristic of the Python dict."
   ]
  },
  {
   "cell_type": "code",
   "execution_count": null,
   "id": "139c90a8-8177-41ca-9d1f-38710a5b2047",
   "metadata": {},
   "outputs": [],
   "source": [
    "me_dict = {'name': 'Chisom', 'age': 25, 'height': 170.1, 'weight': 60.1, \n",
    "           'hair': 'black', 'eyes': 'black', 'has dog': True}\n",
    "\n",
    "print('My name is %s' % me_dict['name'])\n",
    "print('I have %s hair' % me_dict['hair'])\n",
    "print('I will be %d years old next month' % me_dict['age'])"
   ]
  },
  {
   "cell_type": "code",
   "execution_count": null,
   "id": "c57b5a85-2b6f-4a74-841c-9f7568e3cc98",
   "metadata": {},
   "outputs": [],
   "source": [
    "me_dict.values()"
   ]
  },
  {
   "cell_type": "code",
   "execution_count": null,
   "id": "c2160cfc-80e6-42fd-a443-3da65ee66c5a",
   "metadata": {},
   "outputs": [],
   "source": [
    "me_dict.keys()"
   ]
  },
  {
   "cell_type": "markdown",
   "id": "bf658f01-e588-4b22-9bd6-2f6d61ba79fc",
   "metadata": {},
   "source": [
    "### DICT METHODS <a class=\"anchor\" id=\"dict-operations\"></a>"
   ]
  },
  {
   "cell_type": "markdown",
   "id": "3febf5b8-e5ec-46ab-951c-995821758da3",
   "metadata": {
    "tags": []
   },
   "source": [
    "##### Zip"
   ]
  },
  {
   "cell_type": "markdown",
   "id": "ae3bc8f1-eb4a-48f4-966c-eba589d48913",
   "metadata": {},
   "source": [
    "- The zip function can be very handy for creating a dict. \n",
    "Let's go back to the list we made before that contained all the values describing me. We'll make a second list containing all the keys we would want for putting these values in a dictionary"
   ]
  },
  {
   "cell_type": "code",
   "execution_count": null,
   "id": "1d86d569-8856-4131-a3e7-331d80505175",
   "metadata": {},
   "outputs": [],
   "source": [
    "value_list = me\n",
    "key_list = ['name', 'age', 'height', 'weight', 'hair', 'eyes', 'has dog']\n",
    "\n",
    "print(value_list)\n",
    "print(key_list)"
   ]
  },
  {
   "cell_type": "markdown",
   "id": "0efcf072-46ef-4c7e-bb89-6db556797f79",
   "metadata": {},
   "source": [
    "- Currently we have two lists: one of values and one of keys. They have no relationship to each other within Python, but we can see that they belong together logically. How do we combine them in Python? By using the zip function."
   ]
  },
  {
   "cell_type": "code",
   "execution_count": null,
   "id": "dd34f879-d3db-415e-940a-5cf9fa8397c7",
   "metadata": {},
   "outputs": [],
   "source": [
    "key_value_pairs = list(zip(key_list, value_list))\n",
    "print(key_value_pairs)"
   ]
  },
  {
   "cell_type": "markdown",
   "id": "fdc27bb1-d622-4f53-a325-023a0e07c77d",
   "metadata": {},
   "source": [
    "- We now have a list of tuples. We interpret the first element of each tuple as a key, and the second element as a value. We can turn this list of tuples directly into a dict."
   ]
  },
  {
   "cell_type": "code",
   "execution_count": null,
   "id": "cf4a3845-d50e-461b-9d22-a7a7ef90c28e",
   "metadata": {},
   "outputs": [],
   "source": [
    "me_dict = dict(key_value_pairs)\n",
    "print(me_dict)"
   ]
  },
  {
   "cell_type": "markdown",
   "id": "18eb614b-2312-4e03-8dfd-d7797be5b2c7",
   "metadata": {},
   "source": [
    "- You may have noticed that even though our list of tuples began with ('name', 'Dylan'), when we printed me_dict it started with 'eyes': 'brown'. \n",
    "If you guessed this means that a dict is unordered, you are correct! The keys are hashed to assign key-value pairs to memory. Therefore, keys must be immutable and unique, similar to the elements of a set. \n",
    "However, values don't have these restrictions."
   ]
  },
  {
   "cell_type": "markdown",
   "id": "e9d93afa-9c29-47bf-8245-ae66ea9d48e5",
   "metadata": {},
   "source": [
    "- Another Example"
   ]
  },
  {
   "cell_type": "code",
   "execution_count": null,
   "id": "cbddb78e-6d96-4a3c-ad09-c8704e8a77c1",
   "metadata": {},
   "outputs": [],
   "source": [
    "my_house = ['TV', \"AC\", \"ElectricCooker\", \"LibraryStand\", 'Bed']"
   ]
  },
  {
   "cell_type": "code",
   "execution_count": null,
   "id": "474a4460-e67c-423b-bb33-ed5bbeb264be",
   "metadata": {},
   "outputs": [],
   "source": [
    "value_list_1 = my_house\n",
    "key_list_1 = ['Philips', 'Smasung', 'Mechnaical', 'Mechanicses']"
   ]
  },
  {
   "cell_type": "code",
   "execution_count": null,
   "id": "6c4f07e9-8dbd-4104-842d-789569228a56",
   "metadata": {},
   "outputs": [],
   "source": [
    "key_value_pairs_1 = list(zip(key_list_1, value_list_1))\n",
    "print(key_value_pairs_1)"
   ]
  },
  {
   "cell_type": "code",
   "execution_count": null,
   "id": "41414bf1-ac2b-44d2-8c99-bcfb6b34d311",
   "metadata": {},
   "outputs": [],
   "source": [
    "me_dict_1 = dict(key_value_pairs_1)\n",
    "print(me_dict_1)"
   ]
  },
  {
   "cell_type": "code",
   "execution_count": null,
   "id": "e83b7119-3179-4938-98db-24680c4d7c38",
   "metadata": {},
   "outputs": [],
   "source": [
    "-!! Error: Wrong Way of Building Dictionaries"
   ]
  },
  {
   "cell_type": "code",
   "execution_count": null,
   "id": "5a190fad-70be-4d5a-8827-e6670853c439",
   "metadata": {},
   "outputs": [],
   "source": [
    "%%expect_exception TypeError\n",
    "\n",
    "# this doesn't work\n",
    "invalid_dict = {[1, 5]: 'a', 5: 23}"
   ]
  },
  {
   "cell_type": "markdown",
   "id": "8d60ad56-7a3e-427b-b455-a2be70058703",
   "metadata": {},
   "source": [
    "- Update"
   ]
  },
  {
   "cell_type": "code",
   "execution_count": null,
   "id": "9de66e6b-7777-48d0-afa4-22c970f16ecc",
   "metadata": {},
   "outputs": [],
   "source": [
    "The dict is also mutable. We can add new key-value pairs by simple assignment."
   ]
  },
  {
   "cell_type": "code",
   "execution_count": null,
   "id": "1a8eac99-f538-4a93-989e-7464f3001d0a",
   "metadata": {},
   "outputs": [],
   "source": [
    "print(me_dict)\n",
    "me_dict['favorite book'] =  'The Little Prince'\n",
    "print(me_dict)"
   ]
  },
  {
   "cell_type": "code",
   "execution_count": null,
   "id": "1af59919-2dcb-423e-9b13-61ab9b8b17f7",
   "metadata": {},
   "outputs": [],
   "source": [
    "print(me_dict)\n",
    "me_dict.update({'favorite color': 'orange', 'siblings': 3, 'nieces/nephews': 0})\n",
    "print(me_dict)"
   ]
  },
  {
   "cell_type": "code",
   "execution_count": null,
   "id": "40f9ab3e-ce63-46fa-a1e9-c03fc09f26a2",
   "metadata": {},
   "outputs": [],
   "source": [
    "- Delete in Dict"
   ]
  },
  {
   "cell_type": "code",
   "execution_count": null,
   "id": "6b8f7bba-7f46-4a3c-8f01-85cd2d008291",
   "metadata": {},
   "outputs": [],
   "source": [
    "del me_dict['favorite book']\n",
    "print(me_dict)"
   ]
  },
  {
   "cell_type": "code",
   "execution_count": null,
   "id": "b9b3231e-fe71-4f06-94a3-13d91fe4b781",
   "metadata": {},
   "outputs": [],
   "source": [
    "print(me_dict.keys())\n",
    "print(me_dict.values())\n",
    "print(me_dict.items())"
   ]
  },
  {
   "cell_type": "markdown",
   "id": "39109d1c-815c-45a3-a721-7d31ae2a14aa",
   "metadata": {},
   "source": [
    "### SWITCHING AND COMBINATION OF DICT<a class=\"anchor\" id=\"loop-in-dict\"></a>"
   ]
  },
  {
   "cell_type": "markdown",
   "id": "d31e0334-f0ca-481d-9c85-af0e3f547355",
   "metadata": {},
   "source": [
    "- Switching data structures\n",
    "\n",
    "Each of the containers we've introduced has different properties and characteristics. Sometimes we will want to change one data structure into another to take advantage of these differences. \n",
    "We've already seen some methods for transforming a `dict` into a `list` of `tuple`s or vice versa. We can easily transform between `list`, `tuple`, and `set`."
   ]
  },
  {
   "cell_type": "code",
   "execution_count": null,
   "id": "9e50d476-a116-4239-9ed4-cc15e513ce7f",
   "metadata": {},
   "outputs": [],
   "source": [
    "example_list = ['a', 'b', 23, 10, True, 'a', 10]\n",
    "example_tuple = tuple(example_list)\n",
    "example_set = set(example_tuple)\n",
    "example_list = list(example_set)\n",
    "\n",
    "print(example_tuple)\n",
    "print(example_set)\n",
    "print(example_list) # note we lost the duplicates because of set"
   ]
  },
  {
   "cell_type": "markdown",
   "id": "030d0ccb-82c8-43d9-8b4b-590a0e71d654",
   "metadata": {},
   "source": [
    "- Looping Techniques\n",
    "\n",
    "As we've seen in some examples already, it will often be useful to iterate through a data structure, whether to execute some task based on the information contained or to transform or analyze a data set. We will most often use for loops to iterate over data structures. With a list, tuple, or set the elements of the container are returned one after another. With a dict things are a little more complicated: do we want to iterate over keys, values, or key-value pairs?"
   ]
  },
  {
   "cell_type": "code",
   "execution_count": null,
   "id": "2f4ce4e3-30ad-4e3e-b501-5c2ac70fb0bf",
   "metadata": {},
   "outputs": [],
   "source": [
    "# by default we iterate over keys of a dict\n",
    "for f in me_dict:\n",
    "    print(f)"
   ]
  },
  {
   "cell_type": "code",
   "execution_count": null,
   "id": "3c62139b-3d6a-4dd2-a1bd-3b29d63049dc",
   "metadata": {},
   "outputs": [],
   "source": [
    "# to iterate over values...\n",
    "for y in me_dict.values():\n",
    "    print(y)"
   ]
  },
  {
   "cell_type": "code",
   "execution_count": null,
   "id": "3511dfc1-d44b-4a96-8b0a-a2d2010a30fd",
   "metadata": {},
   "outputs": [],
   "source": [
    "# or to iterate over key-value pairs...\n",
    "for k, v in me_dict.items():\n",
    "    print('%s:%s' % (k, v))"
   ]
  },
  {
   "cell_type": "code",
   "execution_count": null,
   "id": "bfa385b6-07a1-4193-a365-2ec59c6e1b30",
   "metadata": {},
   "outputs": [],
   "source": [
    "for i in reversed(range(1, 10, 2)):\n",
    "    print(i)"
   ]
  },
  {
   "cell_type": "code",
   "execution_count": null,
   "id": "c42a9e07-720d-4b35-ab45-abef2f217931",
   "metadata": {},
   "outputs": [],
   "source": [
    "basket = ['apple', 'orange', 'apple', 'pear', 'orange', 'banana']\n",
    "for i in sorted(basket):\n",
    "    print(i)"
   ]
  },
  {
   "cell_type": "markdown",
   "id": "251f5e63-6d4c-42e2-b216-eccfb4124d18",
   "metadata": {},
   "source": [
    "- It is sometimes tempting to change a list while you are looping over it; however, it is often simpler and safer to create a new list instead."
   ]
  },
  {
   "cell_type": "code",
   "execution_count": null,
   "id": "6089479b-8a14-49b6-a100-518e7bee6734",
   "metadata": {},
   "outputs": [],
   "source": [
    "import math\n",
    "raw_data = [56.2, float('NaN'), 51.7, 55.3, 52.5, float('NaN'), 47.8]\n",
    "filtered_data = []\n",
    "for value in raw_data:\n",
    "    if not math.isnan(value):\n",
    "        filtered_data.append(value)"
   ]
  },
  {
   "cell_type": "markdown",
   "id": "6387f5df-28e9-4701-afc6-2d423162e9f5",
   "metadata": {},
   "source": [
    "#### Mapping Data Structures"
   ]
  },
  {
   "cell_type": "code",
   "execution_count": null,
   "id": "84d084b4-bcd8-4c1a-940c-5d52c70bd84d",
   "metadata": {},
   "outputs": [],
   "source": []
  },
  {
   "cell_type": "code",
   "execution_count": null,
   "id": "e2410f8a-7ac3-47a5-9ffe-40eefbea226f",
   "metadata": {},
   "outputs": [],
   "source": []
  },
  {
   "cell_type": "code",
   "execution_count": null,
   "id": "85116b95-c4b8-4920-8cd2-dcc8cfbb79ae",
   "metadata": {},
   "outputs": [],
   "source": []
  },
  {
   "cell_type": "markdown",
   "id": "5e28a760-57b4-4248-bc7a-75b5c1daf236",
   "metadata": {},
   "source": [
    "### REFRENCES <a class=\"anchor\" id=\"reference\"></a>"
   ]
  },
  {
   "cell_type": "markdown",
   "id": "e9841a83-7ba3-4038-be53-1698e2341169",
   "metadata": {},
   "source": [
    "|S/N| links                                                                            |\n",
    "|---|--------------------------------------------------------------------------------- |\n",
    "|-  |https://docs.python.org/3/tutorial/introduction.html                              |\n",
    "|-  |https://apps.cognitiveclass.ai/learning/course                                    |\n",
    "|-  |https://worldquantuniversity.org                                                  |"
   ]
  },
  {
   "cell_type": "code",
   "execution_count": null,
   "id": "bb5f2aad-f35a-4cd3-9ad1-cf6778b8424a",
   "metadata": {},
   "outputs": [],
   "source": []
  }
 ],
 "metadata": {
  "kernelspec": {
   "display_name": "Python 3 (ipykernel)",
   "language": "python",
   "name": "python3"
  },
  "language_info": {
   "codemirror_mode": {
    "name": "ipython",
    "version": 3
   },
   "file_extension": ".py",
   "mimetype": "text/x-python",
   "name": "python",
   "nbconvert_exporter": "python",
   "pygments_lexer": "ipython3",
   "version": "3.10.9"
  }
 },
 "nbformat": 4,
 "nbformat_minor": 5
}
