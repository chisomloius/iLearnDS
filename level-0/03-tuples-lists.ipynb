{
 "cells": [
  {
   "cell_type": "markdown",
   "id": "40687031-5b14-4a5e-83f1-4619c2e3ea19",
   "metadata": {},
   "source": [
    "# LIST AND TUPLES"
   ]
  },
  {
   "cell_type": "markdown",
   "id": "bd8449e8-3c2b-4a3d-be1d-f496e7484cbe",
   "metadata": {},
   "source": [
    "## TABLE OF CONTENT\n",
    "\n",
    "|S/N| CONTENT                                   |\n",
    "|---|------------------------------------------ |\n",
    "|1| [LIST](#list)                               |\n",
    "|2| [LIST METHODS](#list-methods)               |\n",
    "|3| [LIST COMPREHENSION](#list-comprehensions)  |\n",
    "|4| [TUPLES](#tuples)                           |\n",
    "|5| [TUPLES METHODS](#tuples-methods)           |\n",
    "|6| [REFERENCE](#reference)                     |"
   ]
  },
  {
   "cell_type": "markdown",
   "id": "2af3d113-1416-4af0-ac16-deca5477d666",
   "metadata": {},
   "source": [
    "## Ground Rules to Follow"
   ]
  },
  {
   "attachments": {
    "2181ab50-e303-47e5-8984-7f5ce3b35982.PNG": {
     "image/png": "[encoded data removed]"
    }
   },
   "cell_type": "markdown",
   "id": "e2a08664-117b-4746-b2d9-8378cee0a077",
   "metadata": {},
   "source": [
    "- Sign up on [Ananconda Cloud](https://anaconda.cloud/)\n",
    "- Navigate to you notebook side of the website.\n",
    "- ![capture.PNG](attachment:2181ab50-e303-47e5-8984-7f5ce3b35982.PNG)\n",
    "- Create a folder and import the files from the Team's folder.\n",
    "- Run your notebook along."
   ]
  },
  {
   "cell_type": "markdown",
   "id": "6a6d80d0-c066-4203-83f1-8247b0511c4b",
   "metadata": {
    "tags": []
   },
   "source": [
    "### LIST <a class=\"anchor\" id=\"list\"></a>"
   ]
  },
  {
   "cell_type": "markdown",
   "id": "917d4a28-66e9-408f-8066-8e664472de0c",
   "metadata": {},
   "source": [
    "- We've created lists by using square brackets [] around the data we want the list to contain. We can also create lists out of variables, \n",
    "rather than writing in the data directly.\n",
    "- Python knows a number of compound data types, used to group together other values. \n",
    "- The most versatile is the list, which can be written as a list of comma-separated values (items) between square brackets. \n",
    "- Lists might contain items of different types, but usually the items all have the same type."
   ]
  },
  {
   "cell_type": "code",
   "execution_count": null,
   "id": "b96a7798-b44b-4db4-848a-42cca3054474",
   "metadata": {},
   "outputs": [],
   "source": [
    "# area variables (in square meters)\n",
    "hall = 11.25\n",
    "kit = 18.0\n",
    "liv = 20.0\n",
    "bed = 10.75\n",
    "bath = 9.50\n",
    "\n",
    "# Create list areas\n",
    "areas = [hall, kit, liv, bed, bath]\n",
    "\n",
    "# Print areas\n",
    "print(areas)"
   ]
  },
  {
   "cell_type": "code",
   "execution_count": null,
   "id": "af53ff18-deb0-4959-a19a-e4018c52e8bb",
   "metadata": {},
   "outputs": [],
   "source": [
    "int_list = [2, 6, 3049, 18, 37]\n",
    "float_list = [3.7, 8.2, 178.245, 63.1]\n",
    "mixed_list = [26, False, 'some words', 1.264]\n",
    "\n",
    "print(int_list)\n",
    "print(float_list)\n",
    "print(mixed_list)"
   ]
  },
  {
   "cell_type": "code",
   "execution_count": null,
   "id": "4d2621e3-cd3b-4e22-80ea-b689935fbd79",
   "metadata": {},
   "outputs": [],
   "source": [
    "list_of_lists = [['a', 'list', 'of', 'words'], [1, 5, 209], [True, True, False]]\n",
    "print(list_of_lists)"
   ]
  },
  {
   "cell_type": "markdown",
   "id": "76c13967-96b9-4c27-869b-9efc8bc8d487",
   "metadata": {},
   "source": [
    "- clearing a list"
   ]
  },
  {
   "cell_type": "code",
   "execution_count": null,
   "id": "e0916547-5fc8-4a9b-a605-bee210188281",
   "metadata": {},
   "outputs": [],
   "source": [
    "letters[:] = []"
   ]
  },
  {
   "cell_type": "markdown",
   "id": "f9a5aedc-7f58-4756-88a3-60efdf792f9c",
   "metadata": {},
   "source": [
    "- You may have also noticed that when we put data into a list in particular order, it stays in that order when we print or use the list in a for loop. \n",
    "Because list preserves order, we say it is ordered. We can use this property to retrieve particular items from a list based on their position (or index)\n",
    "in the list."
   ]
  },
  {
   "cell_type": "code",
   "execution_count": null,
   "id": "5b09d1df-6128-4e76-b55d-14da26e5f721",
   "metadata": {},
   "outputs": [],
   "source": [
    "#again let's use the list\n",
    "grocery_a = 'chicken'\n",
    "grocery_b = 'onions'\n",
    "grocery_c = 'rice'\n",
    "grocery_d = 'peppers'\n",
    "grocery_e = 'bananas'\n",
    "\n",
    "grocery_list = ['chicken', 'onions', 'rice', 'peppers', 'bananas']\n",
    "print(grocery_list)\n",
    "\n",
    "grocery_list = [grocery_a, grocery_b, grocery_c, grocery_d, grocery_e]\n",
    "print(grocery_list)"
   ]
  },
  {
   "cell_type": "code",
   "execution_count": null,
   "id": "59254fa5-fe78-4105-86c3-c2b05849aa34",
   "metadata": {},
   "outputs": [],
   "source": [
    "print(grocery_list[0])\n",
    "print(grocery_list[1])\n",
    "print(grocery_list[2])"
   ]
  },
  {
   "cell_type": "code",
   "execution_count": null,
   "id": "6a0b651c-4342-40e4-a65b-05f27a2d4aaf",
   "metadata": {},
   "outputs": [],
   "source": [
    "# hint of the list is given as ; ['chicken', 'onions', 'rice', 'peppers', 'bananas']\n",
    "print(grocery_list[1:4]) #prints the 2th to the element before the 5th element\n",
    "print(grocery_list[3:]) #prints the 4th to the last element\n",
    "print(grocery_list[:3]) #print from 1st to the element before the 4th element"
   ]
  },
  {
   "cell_type": "code",
   "execution_count": null,
   "id": "c4f7a491-992e-458e-a2b2-ef6c73a51bcc",
   "metadata": {},
   "outputs": [],
   "source": [
    "print(grocery_list[-1])\n",
    "print(grocery_list[-3:])"
   ]
  },
  {
   "cell_type": "code",
   "execution_count": null,
   "id": "842419f1-59c9-48d7-8aeb-2de194c566f0",
   "metadata": {},
   "outputs": [],
   "source": [
    "print(grocery_list[::2])\n",
    "print(grocery_list[4:1:-1])\n",
    "print(grocery_list[4:1:-2])"
   ]
  },
  {
   "cell_type": "markdown",
   "id": "1166232f-08c1-4b9f-ad49-77bddecd022e",
   "metadata": {
    "tags": []
   },
   "source": [
    "### LIST METHODS <a class=\"anchor\" id=\"list-methods\"></a>"
   ]
  },
  {
   "cell_type": "markdown",
   "id": "685c5559-6e25-4457-bd3c-11e6e1361d73",
   "metadata": {},
   "source": [
    "- The list data type has some more methods. Here are all of the methods of list objects:"
   ]
  },
  {
   "cell_type": "markdown",
   "id": "533b9fe6-f546-4672-9b0f-f43d3b2fc3fc",
   "metadata": {},
   "source": [
    "- list.append(x)\n",
    "Add an item to the end of the list. Equivalent to a[len(a):] = [x].\n",
    "\n",
    "- list.extend(iterable)\n",
    "Extend the list by appending all the items from the iterable. Equivalent to a[len(a):] = iterable.\n",
    "\n",
    "- list.insert(i, x)\n",
    "Insert an item at a given position. The first argument is the index of the element before which to insert, \n",
    "so a.insert(0, x) inserts at the front of the list, and a.insert(len(a), x) is equivalent to a.append(x).\n",
    "\n",
    "- list.remove(x)\n",
    "Remove the first item from the list whose value is equal to x. It raises a ValueError if there is no such item.\n",
    "\n",
    "- list.pop([i])\n",
    "Remove the item at the given position in the list, and return it. If no index is specified, a.pop() removes and returns the last item in the list.\n",
    "(The square brackets around the i in the method signature denote that the parameter is optional, not that you should type square brackets at that position. \n",
    "You will see this notation frequently in the Python Library Reference.)\n",
    "\n",
    "- list.clear()\n",
    "Remove all items from the list. Equivalent to del a[:].\n",
    "\n",
    "- list.index(x[, start[, end]])\n",
    "Return zero-based index in the list of the first item whose value is equal to x. Raises a ValueError if there is no such item.\n",
    "The optional arguments start and end are interpreted as in the slice notation and are used to limit the search to a particular subsequence of the list. \n",
    "The returned index is computed relative to the beginning of the full sequence rather than the start argument.\n",
    "\n",
    "- list.count(x)\n",
    "Return the number of times x appears in the list.\n",
    "\n",
    "- list.sort(*, key=None, reverse=False)\n",
    "Sort the items of the list in place (the arguments can be used for sort customization, see sorted() for their explanation).\n",
    "\n",
    "- list.reverse()\n",
    "Reverse the elements of the list in place.\n",
    "\n",
    "- list.copy()\n",
    "Return a shallow copy of the list. Equivalent to a[:]. \n",
    "\n",
    "- del list\n"
   ]
  },
  {
   "cell_type": "markdown",
   "id": "bc30644d-e890-405d-b312-b7ee6252684c",
   "metadata": {},
   "source": [
    "##### Example of the list methods:"
   ]
  },
  {
   "cell_type": "code",
   "execution_count": null,
   "id": "c96ba738-4b94-4d98-829d-ece8bc9dc487",
   "metadata": {},
   "outputs": [],
   "source": [
    "fruits = ['orange', 'apple', 'pear', 'banana', 'kiwi', 'apple', 'banana']"
   ]
  },
  {
   "cell_type": "code",
   "execution_count": null,
   "id": "739f94e2-7d91-42f5-8d93-f7c16cd69efe",
   "metadata": {},
   "outputs": [],
   "source": [
    "fruits.count('apple')"
   ]
  },
  {
   "cell_type": "code",
   "execution_count": null,
   "id": "2a2b5fc3-2562-4ef6-b802-cf9579a47a2a",
   "metadata": {},
   "outputs": [],
   "source": [
    "fruits.count('tangerine')"
   ]
  },
  {
   "cell_type": "code",
   "execution_count": null,
   "id": "db9770e8-f7a2-431f-ad7b-533c2fd3c5a3",
   "metadata": {},
   "outputs": [],
   "source": [
    "fruits.index('banana')"
   ]
  },
  {
   "cell_type": "code",
   "execution_count": null,
   "id": "c4ae432c-50ab-49eb-b6d3-2d2a976f7044",
   "metadata": {},
   "outputs": [],
   "source": [
    "fruits.index('banana', 4)  # Find next banana starting at position 4"
   ]
  },
  {
   "cell_type": "code",
   "execution_count": null,
   "id": "b6b15365-5206-47c5-806e-5473feb901f8",
   "metadata": {},
   "outputs": [],
   "source": [
    "fruits.reverse()"
   ]
  },
  {
   "cell_type": "code",
   "execution_count": null,
   "id": "71b35071-ada7-4cd7-a0f0-87b20ad76dae",
   "metadata": {},
   "outputs": [],
   "source": [
    "fruits.append('grape')"
   ]
  },
  {
   "cell_type": "code",
   "execution_count": null,
   "id": "c81fc97a-8708-467e-92a2-c66320df674c",
   "metadata": {},
   "outputs": [],
   "source": [
    "fruits.sort()"
   ]
  },
  {
   "cell_type": "code",
   "execution_count": null,
   "id": "2b291873-6172-4f1d-a729-b6cf653dbc60",
   "metadata": {},
   "outputs": [],
   "source": [
    "fruits.pop()"
   ]
  },
  {
   "cell_type": "code",
   "execution_count": null,
   "id": "ecca9d41-6b0a-4432-9d3e-6f5fc2e877a5",
   "metadata": {},
   "outputs": [],
   "source": [
    "del fruits"
   ]
  },
  {
   "cell_type": "markdown",
   "id": "23617704-ad55-46a0-9f67-b72f53fc9164",
   "metadata": {
    "tags": []
   },
   "source": [
    "### LIST COMPREHENSION <a class=\"anchor\" id=\"list-comprehension\"></a>"
   ]
  },
  {
   "cell_type": "markdown",
   "id": "41161357-d225-4669-9f55-edf377d37585",
   "metadata": {},
   "source": [
    "- List comprehensions provide a concise way to create lists. Common applications are to make new lists where each element is the result of some operations \n",
    "applied to each member of another sequence or iterable, or to create a subsequence of those elements that satisfy a certain condition."
   ]
  },
  {
   "cell_type": "code",
   "execution_count": 5,
   "id": "993e5737-de42-4db9-9168-dae5c192b6b9",
   "metadata": {},
   "outputs": [
    {
     "data": {
      "text/plain": [
       "[0, 1, 4, 9, 16, 25, 36, 49, 64, 81]"
      ]
     },
     "execution_count": 5,
     "metadata": {},
     "output_type": "execute_result"
    }
   ],
   "source": [
    "# For example, assume we want to create a list of squares, like:\n",
    "squares = []\n",
    "for x in range(10):\n",
    "    squares.append(x**2)\n",
    "\n",
    "squares"
   ]
  },
  {
   "cell_type": "code",
   "execution_count": null,
   "id": "91aa4e28-1103-404d-a2d6-364068e908bd",
   "metadata": {},
   "outputs": [],
   "source": [
    "# using list comprehension\n",
    "squares = [x**2 for x in range(10)]"
   ]
  },
  {
   "cell_type": "code",
   "execution_count": null,
   "id": "53458117-91b6-4d47-9989-deba63eb05de",
   "metadata": {},
   "outputs": [],
   "source": [
    "# another example of listen comprehension\n",
    "doctor = ['house', 'cuddy', 'chase', 'thirteen', 'wilson']\n",
    "[doc[0] for doc in doctor]"
   ]
  },
  {
   "cell_type": "markdown",
   "id": "22d966df-4f44-498a-ad3d-d22a330dca64",
   "metadata": {},
   "source": [
    "- A list comprehension consists of brackets containing an expression followed by a for clause, then zero or more for or if clauses. \n",
    "The result will be a new list resulting from evaluating the expression in the context of the for and if clauses which follow it. \n",
    "For example, this listcomp combines the elements of two lists if they are not equal:"
   ]
  },
  {
   "cell_type": "code",
   "execution_count": null,
   "id": "b98c2421-a313-4b6d-b674-24880757cf2e",
   "metadata": {},
   "outputs": [],
   "source": [
    "[(x, y) for x in [1,2,3] for y in [3,1,4] if x != y]"
   ]
  },
  {
   "cell_type": "code",
   "execution_count": null,
   "id": "73685ff3-7cef-4232-b62d-63faed766d76",
   "metadata": {},
   "outputs": [],
   "source": [
    "# longer version\n",
    "combs = []\n",
    "for x in [1,2,3]:\n",
    "    for y in [3,1,4]:\n",
    "        if x != y:\n",
    "            combs.append((x, y))\n"
   ]
  },
  {
   "cell_type": "code",
   "execution_count": null,
   "id": "f737b80f-7d64-44e3-ab60-dbb436a038fd",
   "metadata": {},
   "outputs": [],
   "source": [
    "vec = [-4, -2, 0, 2, 4]"
   ]
  },
  {
   "cell_type": "code",
   "execution_count": null,
   "id": "efabfb06-3748-4b00-8777-df22634a00f0",
   "metadata": {},
   "outputs": [],
   "source": [
    "# create a new list with the values doubled\n",
    "[x*2 for x in vec]\n",
    "[-8, -4, 0, 4, 8]"
   ]
  },
  {
   "cell_type": "code",
   "execution_count": null,
   "id": "80a66c88-e44b-4df1-80c1-3b202b38e06e",
   "metadata": {},
   "outputs": [],
   "source": [
    "# filter the list to exclude negative numbers\n",
    "[x for x in vec if x >= 0]\n",
    "[0, 2, 4]"
   ]
  },
  {
   "cell_type": "code",
   "execution_count": null,
   "id": "8466097a-39e8-45d8-a614-65e24d50a070",
   "metadata": {},
   "outputs": [],
   "source": [
    "# apply a function to all the elements\n",
    "[abs(x) for x in vec]\n",
    "[4, 2, 0, 2, 4]\n",
    "# call a method on each element\n",
    "freshfruit = ['  banana', '  loganberry ', 'passion fruit  ']\n",
    "[weapon.strip() for weapon in freshfruit]\n",
    "['banana', 'loganberry', 'passion fruit']\n",
    "# create a list of 2-tuples like (number, square)\n",
    "[(x, x**2) for x in range(6)]\n",
    "[(0, 0), (1, 1), (2, 4), (3, 9), (4, 16), (5, 25)]\n",
    "# the tuple must be parenthesized, otherwise an error is raised\n",
    "[x, x**2 for x in range(6)]\n",
    "  File \"<stdin>\", line 1\n",
    "    [x, x**2 for x in range(6)]\n",
    "     ^^^^^^^\n",
    "SyntaxError: did you forget parentheses around the comprehension target?\n",
    "# flatten a list using a listcomp with two 'for'\n",
    "vec = [[1,2,3], [4,5,6], [7,8,9]]\n",
    "[num for elem in vec for num in elem]\n",
    "[1, 2, 3, 4, 5, 6, 7, 8, 9]"
   ]
  },
  {
   "cell_type": "code",
   "execution_count": null,
   "id": "da7cff1b-5ae3-45ee-b9ce-15207dc8ab7f",
   "metadata": {},
   "outputs": [],
   "source": [
    "# apply a function to all the elements\n",
    "[abs(x) for x in vec]\n",
    "[4, 2, 0, 2, 4]"
   ]
  },
  {
   "cell_type": "code",
   "execution_count": null,
   "id": "4493d713-1567-4fcf-a410-f73a88c647d8",
   "metadata": {},
   "outputs": [],
   "source": [
    "# call a method on each element\n",
    "freshfruit = ['  banana', '  loganberry ', 'passion fruit  ']\n",
    "[weapon.strip() for weapon in freshfruit]"
   ]
  },
  {
   "cell_type": "code",
   "execution_count": null,
   "id": "e4cf0780-1f95-41aa-b045-7d2bf06e8f32",
   "metadata": {},
   "outputs": [],
   "source": [
    "# create a list of 2-tuples like (number, square)\n",
    "[(x, x**2) for x in range(6)]\n",
    "[(0, 0), (1, 1), (2, 4), (3, 9), (4, 16), (5, 25)]"
   ]
  },
  {
   "cell_type": "code",
   "execution_count": null,
   "id": "96d55f5c-c235-4a89-928d-d84916a1cbb8",
   "metadata": {},
   "outputs": [
    {
     "ename": "SyntaxError",
     "evalue": "invalid syntax (568543066.py, line 2)",
     "output_type": "error",
     "traceback": [
      "\u001b[1;36m  Input \u001b[1;32mIn [7]\u001b[1;36m\u001b[0m\n\u001b[1;33m    [x, (x**2) for x in range(6)]\u001b[0m\n\u001b[1;37m               ^\u001b[0m\n\u001b[1;31mSyntaxError\u001b[0m\u001b[1;31m:\u001b[0m invalid syntax\n"
     ]
    }
   ],
   "source": [
    "# the tuple must be parenthesized, otherwise an error is raised\n",
    "[x, x**2 for x in range(6)]\n"
   ]
  },
  {
   "cell_type": "code",
   "execution_count": null,
   "id": "d2f965fb-68b1-49e4-bd65-2e8a1b9fb9fd",
   "metadata": {},
   "outputs": [],
   "source": [
    "# the tuple must be parenthesized, otherwise an error is raised\n",
    "[(x, x**2) for x in range(6)]"
   ]
  },
  {
   "cell_type": "code",
   "execution_count": null,
   "id": "fe48e074-ef1e-4297-8207-40094860ffcd",
   "metadata": {},
   "outputs": [],
   "source": [
    "# flatten a list using a listcomp with two 'for'\n",
    "vec = [[1,2,3], [4,5,6], [7,8,9]]\n",
    "[num for elem in vec for num in elem]\n",
    "[1, 2, 3, 4, 5, 6, 7, 8, 9]"
   ]
  },
  {
   "cell_type": "markdown",
   "id": "22abf5f3-b428-4cba-987f-d3b5d598a194",
   "metadata": {},
   "source": [
    "##### Polymorphism"
   ]
  },
  {
   "cell_type": "code",
   "execution_count": null,
   "id": "287c62af-76ac-4ee8-b767-79ec672ad32a",
   "metadata": {},
   "outputs": [],
   "source": [
    "my_str = 'taco' + 'cat'\n",
    "my_str[::-1] == my_str"
   ]
  },
  {
   "cell_type": "markdown",
   "id": "c4aed385-2727-42c1-be58-117f2bda5226",
   "metadata": {
    "tags": []
   },
   "source": [
    "### TUPLES <a class=\"anchor\" id=\"tuples\"></a>"
   ]
  },
  {
   "cell_type": "markdown",
   "id": "164961b6-4818-41c4-b4e4-e5fdbdd4e958",
   "metadata": {},
   "source": [
    "- tuple\n",
    "A Python tuple is very similar to a list with one major difference -- it is immutable. We create a tuple using parentheses ()."
   ]
  },
  {
   "cell_type": "code",
   "execution_count": null,
   "id": "7cd88836-e717-47da-8e55-53318f44d8a4",
   "metadata": {},
   "outputs": [],
   "source": [
    "example_tuple = ('Dylan', 26, 167.6, True)\n",
    "print(example_tuple)"
   ]
  },
  {
   "cell_type": "markdown",
   "id": "ee1f371a-dee2-44aa-8b60-d9faa3841734",
   "metadata": {},
   "source": [
    "- While we can retrieve data through indexing (because a tuple is ordered), we cannot modify it (because a tuple is immutable)."
   ]
  },
  {
   "cell_type": "code",
   "execution_count": null,
   "id": "a7d78f8b-00fd-4e6f-8857-1f2d499d78e7",
   "metadata": {},
   "outputs": [],
   "source": [
    "print(example_tuple[0])\n",
    "print(example_tuple[1])\n",
    "print(example_tuple[2])"
   ]
  },
  {
   "cell_type": "markdown",
   "id": "a2835884-80ab-4bf8-a0b5-ecbdea25190d",
   "metadata": {},
   "source": [
    "- Tuples can't be changes"
   ]
  },
  {
   "cell_type": "code",
   "execution_count": null,
   "id": "9e877a88-5cd7-40ed-a59b-85bc3b10677c",
   "metadata": {},
   "outputs": [],
   "source": [
    "example_tuple[2] = 169.3"
   ]
  },
  {
   "cell_type": "markdown",
   "id": "fa5e7100-1176-4fe7-b60b-61b6fae3ee4f",
   "metadata": {
    "tags": []
   },
   "source": [
    "### TUPLES METHODS <a class=\"anchor\" id=\"tuples-methods\"></a>"
   ]
  },
  {
   "cell_type": "markdown",
   "id": "1db4318a-ab06-44c2-a612-0a4228727cd7",
   "metadata": {},
   "source": [
    "#### Indexing Tuples"
   ]
  },
  {
   "cell_type": "markdown",
   "id": "af87e26c-3476-4fd5-9b18-ad35a1ec6666",
   "metadata": {},
   "source": [
    "- Each element of a tuple can be accessed via an index. The following table represents the relationship between the index and the items in the tuple. \n",
    "Each element can be obtained by the name of the tuple followed by a square bracket with the index number:"
   ]
  },
  {
   "cell_type": "code",
   "execution_count": null,
   "id": "9322c2d1-f513-4be5-ac57-ad34cd4ae0e8",
   "metadata": {},
   "outputs": [],
   "source": [
    "# Create a tuple\n",
    "tuple1 = (\"disco\",10,1.2 )\n",
    "tuple1"
   ]
  },
  {
   "cell_type": "code",
   "execution_count": null,
   "id": "9f2c765f-06ef-4e5e-9939-713ef422007d",
   "metadata": {},
   "outputs": [],
   "source": [
    "# Use negative index to get the value of the last element\n",
    "tuple1[-1]"
   ]
  },
  {
   "cell_type": "code",
   "execution_count": null,
   "id": "34817d4b-0fce-4838-8e56-4c6f0eec04c2",
   "metadata": {},
   "outputs": [],
   "source": [
    "# Use positive index to get the value of the last element\n",
    "tuple1[2]"
   ]
  },
  {
   "cell_type": "markdown",
   "id": "e23798f5-ba79-412a-abef-10f6fb653da4",
   "metadata": {},
   "source": [
    "#### Concatenate Tuples"
   ]
  },
  {
   "cell_type": "markdown",
   "id": "256c7413-69da-4afb-8df2-5cb210246dfe",
   "metadata": {},
   "source": [
    "- We can concatenate or combine tuples by using the + sign:"
   ]
  },
  {
   "cell_type": "code",
   "execution_count": null,
   "id": "c901df71-7e42-458b-8f32-18f2115d405a",
   "metadata": {},
   "outputs": [],
   "source": [
    "# Concatenate two tuples\n",
    "tuple2 = tuple1 + (\"hard rock\", 10)\n",
    "tuple2"
   ]
  },
  {
   "cell_type": "code",
   "execution_count": null,
   "id": "0ec604dc-205c-415c-865d-8994fcbe084d",
   "metadata": {},
   "outputs": [],
   "source": [
    "#### Slicing"
   ]
  },
  {
   "cell_type": "code",
   "execution_count": null,
   "id": "9a2b3b76-b375-41cb-b3cc-2e227264d541",
   "metadata": {},
   "outputs": [],
   "source": [
    "# Slice from index 0 to index 2\n",
    "\n",
    "tuple2[0:3]"
   ]
  },
  {
   "cell_type": "code",
   "execution_count": null,
   "id": "0d72632c-62a9-4ed3-94a9-40fd5410c32f",
   "metadata": {},
   "outputs": [],
   "source": [
    "# Slice from index 3 to index 4\n",
    "\n",
    "tuple2[3:5]"
   ]
  },
  {
   "cell_type": "code",
   "execution_count": null,
   "id": "f95fe4ef-a478-4f67-8d21-7255c185b99b",
   "metadata": {},
   "outputs": [],
   "source": [
    "# Get the length of tuple\n",
    "\n",
    "len(tuple2)"
   ]
  },
  {
   "cell_type": "markdown",
   "id": "34611b5c-7d75-4c99-89b6-f6e7ce5a594a",
   "metadata": {
    "tags": []
   },
   "source": [
    "##### Sorting Tuples"
   ]
  },
  {
   "cell_type": "code",
   "execution_count": null,
   "id": "2eb387b6-db00-423f-be44-948bc9f4b644",
   "metadata": {},
   "outputs": [],
   "source": [
    "# A sample tuple\n",
    "\n",
    "Ratings = (0, 9, 6, 5, 10, 8, 9, 6, 2)"
   ]
  },
  {
   "cell_type": "code",
   "execution_count": null,
   "id": "49d3e11f-0bb8-43f8-9c22-58853207d722",
   "metadata": {},
   "outputs": [],
   "source": [
    "# Sort the tuple\n",
    "\n",
    "RatingsSorted = sorted(Ratings)\n",
    "RatingsSorted"
   ]
  },
  {
   "cell_type": "markdown",
   "id": "40698fc0-afe7-43d1-a461-0d82a35b4dc1",
   "metadata": {},
   "source": [
    "#### Nested Tuple"
   ]
  },
  {
   "cell_type": "code",
   "execution_count": null,
   "id": "0563c99d-57c5-46e6-b024-b1fabeb43af7",
   "metadata": {},
   "outputs": [],
   "source": [
    "- A tuple can contain another tuple as well as other more complex data types.\n",
    "This process is called 'nesting'. Consider the following tuple with several elements:"
   ]
  },
  {
   "cell_type": "code",
   "execution_count": null,
   "id": "213f7a73-a1dd-4bcb-b457-094eb660a15e",
   "metadata": {},
   "outputs": [],
   "source": [
    "# Create a nest tuple\n",
    "NestedT =(1, 2, (\"pop\", \"rock\") ,(3,4),(\"disco\",(1,2)))"
   ]
  },
  {
   "cell_type": "code",
   "execution_count": null,
   "id": "a416e418-9683-4597-a764-9e64ef336fc5",
   "metadata": {},
   "outputs": [],
   "source": [
    "# Print element on each index\n",
    "\n",
    "print(\"Element 0 of Tuple: \", NestedT[0])\n",
    "print(\"Element 1 of Tuple: \", NestedT[1])\n",
    "print(\"Element 2 of Tuple: \", NestedT[2])\n",
    "print(\"Element 3 of Tuple: \", NestedT[3])\n",
    "print(\"Element 4 of Tuple: \", NestedT[4])"
   ]
  },
  {
   "cell_type": "code",
   "execution_count": null,
   "id": "3931f277-296f-4f35-a27c-867841a94104",
   "metadata": {},
   "outputs": [],
   "source": [
    "# Print the first element in the second nested tuples\n",
    "NestedT[2][1][0]"
   ]
  },
  {
   "cell_type": "code",
   "execution_count": null,
   "id": "cdd07452-544b-4f1c-867f-e95d84fb1a04",
   "metadata": {},
   "outputs": [],
   "source": [
    "# Print the second element in the second nested tuples\n",
    "NestedT[2][1][1]"
   ]
  },
  {
   "cell_type": "markdown",
   "id": "cef3aedd-ec86-4d10-bd47-8238535e0314",
   "metadata": {},
   "source": [
    "### REFRENCES <a class=\"anchor\" id=\"reference\"></a>"
   ]
  },
  {
   "cell_type": "markdown",
   "id": "7a28042a-0d18-4b2a-984b-956f4ae29996",
   "metadata": {},
   "source": [
    "|S/N| links                                                                            |\n",
    "|---|--------------------------------------------------------------------------------- |\n",
    "|-  |https://docs.python.org/3/tutorial/introduction.html                              |\n",
    "|-  |https://apps.cognitiveclass.ai/learning/course                                    |\n",
    "|-  |https://worldquantuniversity.org                                                  |"
   ]
  }
 ],
 "metadata": {
  "kernelspec": {
   "display_name": "Python 3 (ipykernel)",
   "language": "python",
   "name": "python3"
  },
  "language_info": {
   "codemirror_mode": {
    "name": "ipython",
    "version": 3
   },
   "file_extension": ".py",
   "mimetype": "text/x-python",
   "name": "python",
   "nbconvert_exporter": "python",
   "pygments_lexer": "ipython3",
   "version": "3.9.12"
  }
 },
 "nbformat": 4,
 "nbformat_minor": 5
}
