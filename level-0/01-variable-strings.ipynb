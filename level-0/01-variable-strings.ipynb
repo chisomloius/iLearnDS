{
 "cells": [
  {
   "cell_type": "markdown",
   "id": "e8f58e2b-c52e-4843-8df9-1b89f7519b82",
   "metadata": {},
   "source": [
    "# VARIABLS AND STRINGS"
   ]
  },
  {
   "cell_type": "markdown",
   "id": "b3c4cdf7-aade-4881-8011-580271542f57",
   "metadata": {},
   "source": [
    "## TABLE OF CONTENT\n",
    "\n",
    "|S/N| CONTENT                                  |\n",
    "|---|----------------------------------------- |\n",
    "|1| [VARIABLES](#variables)                    |\n",
    "|2| [OPERATORS](#opeartors)                    |\n",
    "|3| [COMPARATORS](#comparators)                |\n",
    "|4| [BUILT-IN WORDS IN PYTHON](#built-in)      |\n",
    "|5| [DATA TYEPES](#data-types)                 |\n",
    "|6| [REFERENCE](#reference)                    |"
   ]
  },
  {
   "cell_type": "markdown",
   "id": "57331bc9-2b72-4d0c-bf23-2a2bf7519424",
   "metadata": {},
   "source": [
    "## Ground Rules to Follow"
   ]
  },
  {
   "attachments": {
    "715c880c-70cf-45de-ae28-3b537756eefd.PNG": {
     "image/png": "[encoded data removed]"
    }
   },
   "cell_type": "markdown",
   "id": "3e125db8-a0e2-4442-94c2-76cf21a5137b",
   "metadata": {},
   "source": [
    "- Sign up on [Ananconda Cloud](https://anaconda.cloud/)\n",
    "- Navigate to you notebook side of the website.\n",
    "- ![capture.PNG](attachment:715c880c-70cf-45de-ae28-3b537756eefd.PNG)\n",
    "- Create a folder and import the files from the Team's folder.\n",
    "- Run your notebook along."
   ]
  },
  {
   "cell_type": "markdown",
   "id": "00480ffe-d9cb-480a-9243-eb07609fea01",
   "metadata": {
    "tags": []
   },
   "source": [
    "### VARIABLES <a class=\"anchor\" id=\"variables\"></a>"
   ]
  },
  {
   "cell_type": "markdown",
   "id": "ca6560de-c163-40bd-9e56-c06859ad65fc",
   "metadata": {},
   "source": [
    "#### What are variables?"
   ]
  },
  {
   "cell_type": "markdown",
   "id": "a8d2ce9d-6638-446c-8e42-4d751db1cdad",
   "metadata": {},
   "source": [
    "- This is how you store your your names codes or anything for recall in python"
   ]
  },
  {
   "cell_type": "code",
   "execution_count": 6,
   "id": "23402715-5695-4dfd-8e11-7d8e77c37ada",
   "metadata": {},
   "outputs": [],
   "source": [
    "a = 5"
   ]
  },
  {
   "cell_type": "code",
   "execution_count": 7,
   "id": "0c7ed9d5-2d03-4612-b670-2ab485f685fa",
   "metadata": {},
   "outputs": [
    {
     "data": {
      "text/plain": [
       "5"
      ]
     },
     "execution_count": 7,
     "metadata": {},
     "output_type": "execute_result"
    }
   ],
   "source": [
    "a"
   ]
  },
  {
   "cell_type": "code",
   "execution_count": 8,
   "id": "0b307cb0-d02c-4446-9648-c74970979f0c",
   "metadata": {},
   "outputs": [],
   "source": [
    "w = 34\n",
    "q = 45\n",
    "u = 56"
   ]
  },
  {
   "cell_type": "code",
   "execution_count": 9,
   "id": "4607c669-d04d-4c29-8564-7dfff0ae8b18",
   "metadata": {},
   "outputs": [
    {
     "data": {
      "text/plain": [
       "56"
      ]
     },
     "execution_count": 9,
     "metadata": {},
     "output_type": "execute_result"
    }
   ],
   "source": [
    "u"
   ]
  },
  {
   "cell_type": "code",
   "execution_count": 10,
   "id": "d2579299-5c84-40de-9597-424b123e0690",
   "metadata": {},
   "outputs": [],
   "source": [
    "first_result = 1 + 1\n",
    "final_result = first_result * 3.5"
   ]
  },
  {
   "cell_type": "code",
   "execution_count": 11,
   "id": "cccac342-2c10-4e26-9747-1f4fddd5c40c",
   "metadata": {},
   "outputs": [
    {
     "data": {
      "text/plain": [
       "2"
      ]
     },
     "execution_count": 11,
     "metadata": {},
     "output_type": "execute_result"
    }
   ],
   "source": [
    "first_result"
   ]
  },
  {
   "cell_type": "code",
   "execution_count": null,
   "id": "85fc73c3-7734-4e4c-ab93-4dfe4334cc7c",
   "metadata": {},
   "outputs": [],
   "source": [
    "my_name = 'chisom'\n",
    "my_age = 17\n",
    "my_number = 17\n",
    "my_dog = True\n",
    "\n",
    "print('My name is: ', my_name)\n",
    "print('My_age: ', my_age)\n",
    "print('My_number: ', my_number)\n",
    "print('I own a dog: ', my_dog)"
   ]
  },
  {
   "cell_type": "code",
   "execution_count": null,
   "id": "6125fd4e-30d8-46e3-b8d1-6b2eb6974dd5",
   "metadata": {},
   "outputs": [],
   "source": [
    "myname = 'Chisom'"
   ]
  },
  {
   "cell_type": "code",
   "execution_count": null,
   "id": "81f1b4dc-d09c-4417-aacc-6cffe40fb108",
   "metadata": {
    "tags": []
   },
   "outputs": [],
   "source": [
    "mynameDictor"
   ]
  },
  {
   "cell_type": "code",
   "execution_count": null,
   "id": "585d9a43-7a56-4688-b04d-b1739e433b79",
   "metadata": {},
   "outputs": [],
   "source": [
    "myanmedict"
   ]
  },
  {
   "cell_type": "code",
   "execution_count": null,
   "id": "2370895e-e16f-4ca1-a539-da8086c332a0",
   "metadata": {},
   "outputs": [],
   "source": [
    "MYSPORT"
   ]
  },
  {
   "cell_type": "code",
   "execution_count": null,
   "id": "9b274b10-115e-436e-b585-2cf8e23d206e",
   "metadata": {},
   "outputs": [],
   "source": [
    "my_SPORT"
   ]
  },
  {
   "cell_type": "markdown",
   "id": "88ed5010-2efa-4578-86d4-846ccdb685f4",
   "metadata": {},
   "source": [
    "#### What are Comments?"
   ]
  },
  {
   "cell_type": "markdown",
   "id": "f086c860-1ee4-4214-a609-a8f7a875233f",
   "metadata": {},
   "source": [
    "- Comments are simple explanations of variables of other python objects"
   ]
  },
  {
   "cell_type": "code",
   "execution_count": null,
   "id": "7aedcd25-9af0-4952-8720-98f7e9c69b9a",
   "metadata": {},
   "outputs": [],
   "source": [
    "first_result = 1 + 1 # this an addition\n",
    "final_result = first_result * 3.5  # this is a multiplication"
   ]
  },
  {
   "cell_type": "markdown",
   "id": "5c769362-1797-4f45-9390-1076d023dad2",
   "metadata": {
    "tags": []
   },
   "source": [
    "### OPERATORS <a class=\"anchor\" id=\"operators\"></a>"
   ]
  },
  {
   "cell_type": "markdown",
   "id": "29726155-497b-4438-97e9-367b879fd3b7",
   "metadata": {
    "tags": []
   },
   "source": [
    "#### What are operators?"
   ]
  },
  {
   "cell_type": "markdown",
   "id": "059f47f6-b23d-49ea-a647-0317bf5140a6",
   "metadata": {},
   "source": [
    "- Operators in Python are symbols or special characters that perform operations on operands (values or variables). \n",
    "Python provides various types of operators, including arithmetic operators, assignment operators, comparison operators, \n",
    "logical operators, identity operators, membership operators, and bitwise operators.\n",
    "\n",
    "- Arithmetic Operators:\n",
    "\n",
    "    - Addition: +\n",
    "    - Subtraction: -\n",
    "    - Multiplication: *\n",
    "    - Division: /\n",
    "    - Floor Division: //\n",
    "    - Modulo: %\n",
    "    - Exponentiation: **\n",
    "    - Assignment Operators:\n",
    "\n",
    "- Assignment: =\n",
    "    - Addition Assignment: +=\n",
    "    - Subtraction Assignment: -=\n",
    "    - Multiplication Assignment: *=\n",
    "    - Division Assignment: /=\n",
    "    - Modulo Assignment: %=\n",
    "    - Exponentiation Assignment: **=\n",
    "    - Floor Division Assignment: //="
   ]
  },
  {
   "cell_type": "markdown",
   "id": "d00628c9-5433-4623-b11d-a97a1d10f49e",
   "metadata": {},
   "source": [
    "#### Examples of Operators"
   ]
  },
  {
   "cell_type": "code",
   "execution_count": 17,
   "id": "28bec0d5-15dc-4bfb-8945-e21285311695",
   "metadata": {},
   "outputs": [
    {
     "name": "stdout",
     "output_type": "stream",
     "text": [
      "7\n"
     ]
    }
   ],
   "source": [
    "# Addition: Adds two numbers\n",
    "result = 3 + 4\n",
    "print(result)  # Output: 7"
   ]
  },
  {
   "cell_type": "code",
   "execution_count": 18,
   "id": "cf4745af-7813-47ec-9a9b-272862e3dbf3",
   "metadata": {},
   "outputs": [
    {
     "name": "stdout",
     "output_type": "stream",
     "text": [
      "4\n"
     ]
    }
   ],
   "source": [
    "# Subtraction: Subtracts one number from another\n",
    "result = 9 - 5\n",
    "print(result)  # Output: 4"
   ]
  },
  {
   "cell_type": "code",
   "execution_count": 19,
   "id": "70869725-65a4-4fa6-81e5-34b7f9064db6",
   "metadata": {},
   "outputs": [
    {
     "name": "stdout",
     "output_type": "stream",
     "text": [
      "12\n"
     ]
    }
   ],
   "source": [
    "# Multiplication: Multiplies two numbers\n",
    "result = 2 * 6\n",
    "print(result)  # Output: 12"
   ]
  },
  {
   "cell_type": "code",
   "execution_count": 20,
   "id": "0cb1ce3a-8a82-4776-8ec4-df1bfa69330c",
   "metadata": {},
   "outputs": [
    {
     "name": "stdout",
     "output_type": "stream",
     "text": [
      "3.3333333333333335\n"
     ]
    }
   ],
   "source": [
    "# Division: Divides one number by another\n",
    "result = 10 / 3\n",
    "print(result)  # Output: 3.3333333333333335"
   ]
  },
  {
   "cell_type": "code",
   "execution_count": null,
   "id": "f5577dce-1db5-401d-a08d-63469c7e21d9",
   "metadata": {},
   "outputs": [],
   "source": [
    "# Floor Division: Divides one number by another, rounding down to the nearest whole number\n",
    "result = 10 // 3\n",
    "print(result)  # Output: 3"
   ]
  },
  {
   "cell_type": "code",
   "execution_count": null,
   "id": "2f56dd3a-1589-4464-b718-72e1d1965672",
   "metadata": {},
   "outputs": [],
   "source": [
    "# Modulo: Returns the remainder after division\n",
    "result = 10 % 3\n",
    "print(result)  # Output: 1"
   ]
  },
  {
   "cell_type": "code",
   "execution_count": null,
   "id": "48b54fd1-eb41-4d2a-9c04-266ddd1c5e3e",
   "metadata": {},
   "outputs": [],
   "source": [
    "# Exponentiation: Raises a number to the power of another number\n",
    "result = 2 ** 3\n",
    "print(result)  # Output: 8"
   ]
  },
  {
   "cell_type": "code",
   "execution_count": 21,
   "id": "79b8e7ad-5a4c-4208-917e-383512de12f0",
   "metadata": {},
   "outputs": [
    {
     "name": "stdout",
     "output_type": "stream",
     "text": [
      "5\n"
     ]
    }
   ],
   "source": [
    "# Assignment: Assigns a value to a variable\n",
    "x = 5\n",
    "print(x)  # Output: 5"
   ]
  },
  {
   "cell_type": "code",
   "execution_count": 38,
   "id": "b9d6b60f-6237-44a0-9899-276b234990b9",
   "metadata": {},
   "outputs": [
    {
     "name": "stdout",
     "output_type": "stream",
     "text": [
      "seas3\n"
     ]
    }
   ],
   "source": [
    "# Addition Assignment: Adds a value to the variable and assigns the result to itself\n",
    "x = 'seas'\n",
    "x += '3'\n",
    "print(x)  # Output: 8"
   ]
  },
  {
   "cell_type": "code",
   "execution_count": 23,
   "id": "c01a4319-6aa5-4796-a6e1-7105ee280a92",
   "metadata": {},
   "outputs": [
    {
     "ename": "TypeError",
     "evalue": "unsupported operand type(s) for -=: 'str' and 'int'",
     "output_type": "error",
     "traceback": [
      "\u001b[1;31m---------------------------------------------------------------------------\u001b[0m",
      "\u001b[1;31mTypeError\u001b[0m                                 Traceback (most recent call last)",
      "Input \u001b[1;32mIn [39]\u001b[0m, in \u001b[0;36m<cell line: 2>\u001b[1;34m()\u001b[0m\n\u001b[0;32m      1\u001b[0m \u001b[38;5;66;03m# Subtraction Assignment: Subtracts a value from the variable and assigns the result to itself\u001b[39;00m\n\u001b[1;32m----> 2\u001b[0m x \u001b[38;5;241m-\u001b[39m\u001b[38;5;241m=\u001b[39m \u001b[38;5;241m2\u001b[39m\n\u001b[0;32m      3\u001b[0m \u001b[38;5;28mprint\u001b[39m(x)\n",
      "\u001b[1;31mTypeError\u001b[0m: unsupported operand type(s) for -=: 'str' and 'int'"
     ]
    }
   ],
   "source": [
    "# Subtraction Assignment: Subtracts a value from the variable and assigns the result to itself\n",
    "x -= 2\n",
    "print(x)  # Output: 6"
   ]
  },
  {
   "cell_type": "code",
   "execution_count": 24,
   "id": "510dd324-83d0-44c3-a24c-ad77bfed7b5d",
   "metadata": {},
   "outputs": [
    {
     "name": "stdout",
     "output_type": "stream",
     "text": [
      "24\n"
     ]
    }
   ],
   "source": [
    "# Multiplication Assignment: Multiplies the variable by a value and assigns the result to itself\n",
    "x *= 4\n",
    "print(x)  # Output: 24"
   ]
  },
  {
   "cell_type": "code",
   "execution_count": 25,
   "id": "d06b980a-7849-4ce3-a8ec-57aebbca5160",
   "metadata": {},
   "outputs": [
    {
     "name": "stdout",
     "output_type": "stream",
     "text": [
      "8.0\n"
     ]
    }
   ],
   "source": [
    "# Division Assignment: Divides the variable by a value and assigns the result to itself\n",
    "x /= 3\n",
    "print(x)  # Output: 8.0"
   ]
  },
  {
   "cell_type": "code",
   "execution_count": 26,
   "id": "6efb5b75-08d8-4aa9-be64-7b2556731c58",
   "metadata": {},
   "outputs": [
    {
     "name": "stdout",
     "output_type": "stream",
     "text": [
      "3.0\n"
     ]
    }
   ],
   "source": [
    "# Modulo Assignment: Computes the modulo of the variable with a value and assigns the result to itself\n",
    "x %= 5\n",
    "print(x)  # Output: 3.0"
   ]
  },
  {
   "cell_type": "code",
   "execution_count": 27,
   "id": "30a6a9dd-8c09-42fc-9b65-5489cc93684e",
   "metadata": {},
   "outputs": [
    {
     "name": "stdout",
     "output_type": "stream",
     "text": [
      "9.0\n"
     ]
    }
   ],
   "source": [
    "# Exponentiation Assignment: Raises the variable to the power of a value and assigns the result to itself\n",
    "x **= 2\n",
    "print(x)  # Output: 9.0"
   ]
  },
  {
   "cell_type": "code",
   "execution_count": 28,
   "id": "45fb1453-d4f7-4f32-bf66-7d3c19e507ea",
   "metadata": {},
   "outputs": [
    {
     "name": "stdout",
     "output_type": "stream",
     "text": [
      "4.0\n"
     ]
    }
   ],
   "source": [
    "# Floor Division Assignment: Computes the floor division of the variable by a value and assigns the result to itself\n",
    "x //= 2\n",
    "print(x)  # Output: 4.0"
   ]
  },
  {
   "cell_type": "markdown",
   "id": "3c044d3c-f751-4074-a218-3dd198ad93d6",
   "metadata": {
    "tags": []
   },
   "source": [
    "### COMPARATORS <a class=\"anchor\" id=\"comparators\"></a>"
   ]
  },
  {
   "cell_type": "markdown",
   "id": "553ada74-26f2-4079-a40c-b9f5affebeb6",
   "metadata": {
    "tags": []
   },
   "source": [
    "#### What are comparators?"
   ]
  },
  {
   "cell_type": "code",
   "execution_count": null,
   "id": "0d2453cf-b100-4cd9-ac9e-d73ee338c746",
   "metadata": {},
   "outputs": [],
   "source": [
    "Although they are oeprators, but specially classified under the following classification:\n",
    "\n",
    "- Comparison Operators:\n",
    "\n",
    "    - Equal to: ==\n",
    "    - Not equal to: !=\n",
    "    - Greater than: >\n",
    "    - Less than: <\n",
    "    - Greater than or equal to: >=\n",
    "    - Less than or equal to: <=\n",
    "    \n",
    "- Logical Operators:\n",
    "\n",
    "    - Logical AND: and (&)\n",
    "    - Logical OR: or    (|)\n",
    "    - Logical NOT: not\n",
    "    \n",
    "- Identity Operators:\n",
    "\n",
    "    - Identity equality: is\n",
    "    - Identity inequality: is not\n",
    "    - Membership Operators:\n",
    "    - Membership test for values in sequences: in\n",
    "    - Membership test for values not in sequences: not in\n",
    "\n",
    "- Bitwise Operators:\n",
    "\n",
    "    - Bitwise AND: &\n",
    "    - Bitwise OR: |\n",
    "    - Bitwise XOR: ^\n",
    "    - Bitwise NOT: ~\n",
    "    - Left shift: <<\n",
    "    - Right shift: >>"
   ]
  },
  {
   "cell_type": "markdown",
   "id": "5325bae8-c3ee-4471-a6a4-c0797c838705",
   "metadata": {},
   "source": [
    "#### Examples of Compaartors"
   ]
  },
  {
   "cell_type": "code",
   "execution_count": 29,
   "id": "4b0ba402-7242-4efc-bb8f-f9ff08655f7c",
   "metadata": {},
   "outputs": [
    {
     "name": "stdout",
     "output_type": "stream",
     "text": [
      "False\n"
     ]
    }
   ],
   "source": [
    "x = 5\n",
    "y = 10\n",
    "result = (x == y)\n",
    "print(result)  # Output: False\n"
   ]
  },
  {
   "cell_type": "code",
   "execution_count": 30,
   "id": "a2f2513b-c284-4d79-9c76-e881e422004a",
   "metadata": {},
   "outputs": [
    {
     "name": "stdout",
     "output_type": "stream",
     "text": [
      "True\n"
     ]
    }
   ],
   "source": [
    "x = 5\n",
    "y = 10\n",
    "result = (x != y)\n",
    "print(result)  # Output: True\n"
   ]
  },
  {
   "cell_type": "code",
   "execution_count": null,
   "id": "501f88b2-c27a-4f61-8cad-0e0f6c8cc80e",
   "metadata": {},
   "outputs": [],
   "source": [
    "x = 5\n",
    "y = 10\n",
    "result = (x > y)\n",
    "print(result)  # Output: False\n"
   ]
  },
  {
   "cell_type": "code",
   "execution_count": 31,
   "id": "634fd89a-2507-474e-9622-c680b745ecdf",
   "metadata": {},
   "outputs": [
    {
     "name": "stdout",
     "output_type": "stream",
     "text": [
      "False\n"
     ]
    }
   ],
   "source": [
    "x = 5\n",
    "y = 10\n",
    "result = (x > y)\n",
    "print(result)  # Output: False\n"
   ]
  },
  {
   "cell_type": "code",
   "execution_count": null,
   "id": "3c76ca94-5bc9-48bf-b72e-32f324a2747c",
   "metadata": {},
   "outputs": [],
   "source": [
    "x = 5\n",
    "y = 10\n",
    "result = (x >= y)\n",
    "print(result)  # Output: False\n"
   ]
  },
  {
   "cell_type": "code",
   "execution_count": null,
   "id": "edf62e07-3f8f-4e7a-ba47-765775c91675",
   "metadata": {},
   "outputs": [],
   "source": [
    "x = 5\n",
    "y = 10\n",
    "result = (x <= y)\n",
    "print(result)  # Output: True\n"
   ]
  },
  {
   "cell_type": "code",
   "execution_count": 33,
   "id": "e746bafa-58bd-46aa-9e46-33f51fb3818c",
   "metadata": {},
   "outputs": [
    {
     "name": "stdout",
     "output_type": "stream",
     "text": [
      "False\n"
     ]
    }
   ],
   "source": [
    "x = 5\n",
    "y = 10\n",
    "z = 7\n",
    "result = (x < y) & (y < z) # replace & with 'and'\n",
    "print(result)  # Output: False\n"
   ]
  },
  {
   "cell_type": "code",
   "execution_count": 34,
   "id": "3f978f73-b8f8-4bd5-bbef-9a149498e5bc",
   "metadata": {},
   "outputs": [
    {
     "name": "stdout",
     "output_type": "stream",
     "text": [
      "True\n"
     ]
    }
   ],
   "source": [
    "x = 5\n",
    "y = 10\n",
    "z = 7\n",
    "result = (x < y) | (y < z)\n",
    "print(result)  # Output: True\n"
   ]
  },
  {
   "cell_type": "code",
   "execution_count": null,
   "id": "6d435e62-d645-4acd-89bb-9add7cb077b2",
   "metadata": {},
   "outputs": [],
   "source": [
    "x = True\n",
    "result = not x\n",
    "print(result)  # Output: False\n"
   ]
  },
  {
   "cell_type": "code",
   "execution_count": null,
   "id": "02e61385-9f8b-4f1d-80f8-dee96276b393",
   "metadata": {},
   "outputs": [],
   "source": [
    "x = [1, 2, 3]\n",
    "y = [1, 2, 3]\n",
    "result = (x is y)\n",
    "print(result)  # Output: False\n"
   ]
  },
  {
   "cell_type": "code",
   "execution_count": null,
   "id": "fc08d0fd-ca12-4343-bc78-8275b476f68a",
   "metadata": {},
   "outputs": [],
   "source": [
    "x = [1, 2, 3]\n",
    "y = [1, 2, 3]\n",
    "result = (x is not y)\n",
    "print(result)  # Output: True\n"
   ]
  },
  {
   "cell_type": "code",
   "execution_count": null,
   "id": "f9ef1ee8-3b93-4f13-bbcb-57209f5db13b",
   "metadata": {},
   "outputs": [],
   "source": [
    "x = 3\n",
    "list_values = [1, 2, 3, 4, 5]\n",
    "result = (x in list_values)\n",
    "print(result)  # Output: True\n"
   ]
  },
  {
   "cell_type": "code",
   "execution_count": null,
   "id": "748594ca-9232-4884-8c02-18671706619c",
   "metadata": {},
   "outputs": [],
   "source": [
    "x = 10   # 1010 in binary\n",
    "y = 6    # 0110 in binary\n",
    "result = x & y\n",
    "print(result)  # Output: 2\n"
   ]
  },
  {
   "cell_type": "code",
   "execution_count": null,
   "id": "5c2ef05f-77fd-4573-ab33-9d15b12b0854",
   "metadata": {},
   "outputs": [],
   "source": [
    "x = 10   # 1010 in binary\n",
    "y = 6    # 0110 in binary\n",
    "result = x | y\n",
    "print(result)  # Output: 14\n"
   ]
  },
  {
   "cell_type": "code",
   "execution_count": null,
   "id": "6834ce32-0d83-468c-8584-f00e8f4ad453",
   "metadata": {},
   "outputs": [],
   "source": [
    "x = 10   # 1010 in binary\n",
    "y = 6    # 0110 in binary\n",
    "result = x ^ y\n",
    "print(result)  # Output: 12\n"
   ]
  },
  {
   "cell_type": "code",
   "execution_count": null,
   "id": "46142f48-6144-4943-9f87-efd0ca97e11a",
   "metadata": {},
   "outputs": [],
   "source": [
    "x = 10   # 1010 in binary\n",
    "result = ~x\n",
    "print(result)  # Output: -11\n"
   ]
  },
  {
   "cell_type": "code",
   "execution_count": 7,
   "id": "4454ea9e-36cc-48b7-a37c-2a565673f44a",
   "metadata": {},
   "outputs": [
    {
     "name": "stdout",
     "output_type": "stream",
     "text": [
      "20\n"
     ]
    }
   ],
   "source": [
    "x = 5    # 0101 in binary\n",
    "result = x << 2\n",
    "print(result)  # Output: 20"
   ]
  },
  {
   "cell_type": "code",
   "execution_count": 8,
   "id": "ea8c7621-b7d1-49f1-b7d5-3820c3c5b315",
   "metadata": {},
   "outputs": [
    {
     "name": "stdout",
     "output_type": "stream",
     "text": [
      "1\n"
     ]
    }
   ],
   "source": [
    "x = 5    # 0101 in binary\n",
    "result = x >> 2\n",
    "print(result)  # Output: 1\n"
   ]
  },
  {
   "cell_type": "markdown",
   "id": "6d5e55d1-34a5-4af3-bd1d-e29145833a22",
   "metadata": {
    "tags": []
   },
   "source": [
    "### BUILT-IN WORDS IN PYTHON <a class=\"anchor\" id=\"built-in\"></a>"
   ]
  },
  {
   "cell_type": "markdown",
   "id": "002ace94-b9a8-49f9-ad63-4e7abae5c027",
   "metadata": {},
   "source": [
    "#### What is built-in words in python?\n",
    "\n",
    "They are python reserved words, they should not be used in naming your variables or any other data object when coding in python.\n",
    "They namely, but not all; \n",
    "\n",
    "- False      \n",
    "- class       \n",
    "- finally     \n",
    "- is          \n",
    "- return\n",
    "- None        \n",
    "- continue   \n",
    "- for         \n",
    "- lambda      \n",
    "- try\n",
    "- True        \n",
    "- def         \n",
    "- from        \n",
    "- nonlocal    \n",
    "- while\n",
    "- and        \n",
    "- del        \n",
    "- global      \n",
    "- not         \n",
    "- with\n",
    "- as         \n",
    "- elif       \n",
    "- if         \n",
    "- or          \n",
    "- yield\n",
    "- assert      \n",
    "- else        \n",
    "- import      \n",
    "- pass\n",
    "- break      \n",
    "- except      \n",
    "- in          \n",
    "- raise"
   ]
  },
  {
   "cell_type": "markdown",
   "id": "aeb862fd-749b-405c-958c-1792538d49bd",
   "metadata": {},
   "source": [
    "#### Use cases"
   ]
  },
  {
   "cell_type": "code",
   "execution_count": null,
   "id": "9248b58f-ff85-429e-9012-1218066f6c8f",
   "metadata": {},
   "outputs": [],
   "source": [
    "flag = True\n",
    "if flag:\n",
    "    print(\"The flag is true\")\n"
   ]
  },
  {
   "cell_type": "code",
   "execution_count": null,
   "id": "cd8866bc-d0b2-46a8-a335-34c05bdbb910",
   "metadata": {},
   "outputs": [],
   "source": [
    "result = None\n",
    "if result is None:\n",
    "    print(\"No result found\")\n"
   ]
  },
  {
   "cell_type": "code",
   "execution_count": null,
   "id": "a88a79b2-c4bc-455c-b0b2-636fa74ffa15",
   "metadata": {},
   "outputs": [],
   "source": [
    "x = 5\n",
    "y = 10\n",
    "if x > 0 and y > 0:\n",
    "    print(\"Both x and y are greater than 0\")\n"
   ]
  },
  {
   "cell_type": "code",
   "execution_count": null,
   "id": "b1012835-41db-43eb-99e4-bdd6d4127f6b",
   "metadata": {},
   "outputs": [],
   "source": [
    "num = 7\n",
    "if num < 0:\n",
    "    print(\"Negative number\")\n",
    "elif num > 0:\n",
    "    print(\"Positive number\")\n",
    "else:\n",
    "    print(\"Zero\")\n"
   ]
  },
  {
   "cell_type": "code",
   "execution_count": null,
   "id": "6ace9025-8c20-431f-9c4c-1ec7a25f866a",
   "metadata": {},
   "outputs": [],
   "source": [
    "fruits = [\"apple\", \"banana\", \"cherry\"]\n",
    "for fruit in fruits:\n",
    "    print(fruit)\n"
   ]
  },
  {
   "cell_type": "code",
   "execution_count": null,
   "id": "ee02fabc-5fba-400e-8024-3a5b59ce38ba",
   "metadata": {},
   "outputs": [],
   "source": [
    "name = \"John\"\n",
    "print(\"Hello, \" + name)"
   ]
  },
  {
   "cell_type": "code",
   "execution_count": 2,
   "id": "fcfaad95-3535-49da-80c4-0dd26bea66ee",
   "metadata": {},
   "outputs": [
    {
     "name": "stdout",
     "output_type": "stream",
     "text": [
      "15\n"
     ]
    }
   ],
   "source": [
    "x = \"10\"\n",
    "y = int(x)\n",
    "print(y + 5)  # Output: 15"
   ]
  },
  {
   "cell_type": "code",
   "execution_count": null,
   "id": "470eab27-a198-4211-ad67-8f3499c022f1",
   "metadata": {},
   "outputs": [],
   "source": [
    "x = 5\n",
    "print(type(x))  # Output: <class 'int'>\n"
   ]
  },
  {
   "cell_type": "code",
   "execution_count": null,
   "id": "eaf1bbe6-71f9-4843-8b18-dc34532e637a",
   "metadata": {},
   "outputs": [],
   "source": [
    "name = input(\"Enter your name: \")\n",
    "print(\"Hello, \" + name)\n"
   ]
  },
  {
   "cell_type": "code",
   "execution_count": null,
   "id": "d9ecaf84-f506-4573-934f-7e5dd9973bfe",
   "metadata": {},
   "outputs": [],
   "source": [
    "for num in range(1, 6):\n",
    "    print(num)\n"
   ]
  },
  {
   "cell_type": "code",
   "execution_count": null,
   "id": "8debd5eb-e9d3-4790-bbb3-3d02a27f6739",
   "metadata": {},
   "outputs": [],
   "source": [
    "numbers = [1, 2, 3, 4, 5]\n",
    "length = len(numbers)\n",
    "print(\"Length of numbers:\", length)\n"
   ]
  },
  {
   "cell_type": "markdown",
   "id": "e417bb65-4201-4aae-9fdc-8808f421da5d",
   "metadata": {
    "tags": []
   },
   "source": [
    "### DATA TYPES <a class=\"anchor\" id=\"data-types\"></a>"
   ]
  },
  {
   "cell_type": "markdown",
   "id": "36bf4d94-df1b-4b08-9cd8-966e070b94a0",
   "metadata": {
    "tags": []
   },
   "source": [
    "#### What are data types?"
   ]
  },
  {
   "cell_type": "markdown",
   "id": "380b93e5-2214-439e-9444-f763fed15680",
   "metadata": {},
   "source": [
    "-  data types are used to categorize and represent different kinds of data. Each data type has specific characteristics and operations associated with it. \n",
    "Here are some commonly used data types in Python along with examples:"
   ]
  },
  {
   "cell_type": "markdown",
   "id": "db0a73f7-b4d9-445f-8611-b8208a681b21",
   "metadata": {
    "tags": []
   },
   "source": [
    "#### Examples of data type in python"
   ]
  },
  {
   "cell_type": "code",
   "execution_count": 40,
   "id": "7798b28f-68db-4567-b6b2-6a8b3906fd41",
   "metadata": {},
   "outputs": [
    {
     "name": "stdout",
     "output_type": "stream",
     "text": [
      "<class 'int'>\n"
     ]
    }
   ],
   "source": [
    "# Integer Example\n",
    "x = 5\n",
    "print(type(x))  # Output: <class 'int'>"
   ]
  },
  {
   "cell_type": "code",
   "execution_count": 42,
   "id": "2b2bd488-39ef-47f4-9505-963c149b9c23",
   "metadata": {},
   "outputs": [
    {
     "name": "stdout",
     "output_type": "stream",
     "text": [
      "<class 'float'>\n"
     ]
    }
   ],
   "source": [
    "# Float Example\n",
    "x = 3.14\n",
    "print(type(x))  # Output: <class 'float'>\n"
   ]
  },
  {
   "cell_type": "code",
   "execution_count": 41,
   "id": "9c407c4b-b018-40fb-8cc6-58585c81ecc3",
   "metadata": {},
   "outputs": [
    {
     "name": "stdout",
     "output_type": "stream",
     "text": [
      "<class 'str'>\n"
     ]
    }
   ],
   "source": [
    "# String Example\n",
    "x = \"Hello, World!\"\n",
    "print(type(x))  # Output: <class 'str'>\n"
   ]
  },
  {
   "cell_type": "code",
   "execution_count": null,
   "id": "ac33b56b-f387-4b55-a5f7-f49a445f0eca",
   "metadata": {},
   "outputs": [],
   "source": [
    "# Boolean Example\n",
    "x = True\n",
    "print(type(x))  # Output: <class 'bool'>\n"
   ]
  },
  {
   "cell_type": "code",
   "execution_count": null,
   "id": "8f700e5c-92b2-43d1-a355-767e8acc132b",
   "metadata": {},
   "outputs": [],
   "source": [
    "# List Example\n",
    "x = [1, 2, 3, 4, 5]\n",
    "print(type(x))  # Output: <class 'list'>\n"
   ]
  },
  {
   "cell_type": "code",
   "execution_count": null,
   "id": "b83b0ac4-e4d0-4627-97d5-ac1ddda01aca",
   "metadata": {},
   "outputs": [],
   "source": [
    "# Tuple Example\n",
    "x = (1, 2, 3, 4, 5)\n",
    "print(type(x))  # Output: <class 'tuple'>\n"
   ]
  },
  {
   "cell_type": "code",
   "execution_count": 44,
   "id": "b20e75ba-5a57-400d-a431-1442e367d0f6",
   "metadata": {},
   "outputs": [
    {
     "name": "stdout",
     "output_type": "stream",
     "text": [
      "<class 'set'>\n"
     ]
    }
   ],
   "source": [
    "# Set Example\n",
    "x = {1, 2, 3, 4, 5}\n",
    "print(type(x))  # Output: <class 'set'>\n"
   ]
  },
  {
   "cell_type": "code",
   "execution_count": 43,
   "id": "d4cebad3-1ba8-4c5a-96f4-dbedc05c08a4",
   "metadata": {},
   "outputs": [
    {
     "name": "stdout",
     "output_type": "stream",
     "text": [
      "<class 'dict'>\n"
     ]
    }
   ],
   "source": [
    "# Dictionary Example\n",
    "x = {\"name\": \"John\", \"age\": 25, \"city\": \"New York\"}\n",
    "print(type(x))  # Output: <class 'dict'>\n"
   ]
  },
  {
   "cell_type": "code",
   "execution_count": 45,
   "id": "a315dc0f-cadc-4019-b7de-76924690b5e4",
   "metadata": {},
   "outputs": [
    {
     "name": "stdout",
     "output_type": "stream",
     "text": [
      "<class 'NoneType'>\n"
     ]
    }
   ],
   "source": [
    "# None Example\n",
    "x = None\n",
    "print(type(x))  # Output: <class 'NoneType'>\n"
   ]
  },
  {
   "cell_type": "markdown",
   "id": "49f188a9-564a-4232-a8e3-99f12184302a",
   "metadata": {},
   "source": [
    "#### Converting from one object type to a different object type"
   ]
  },
  {
   "cell_type": "markdown",
   "id": "80120364-5f12-41fb-b8b9-9bb2f15e147d",
   "metadata": {},
   "source": [
    "- You can change the type of the object in Python; this is called typecasting. For example, you can convert an integer into a float (e.g. 2 to 2.0)."
   ]
  },
  {
   "cell_type": "code",
   "execution_count": null,
   "id": "35975f92-b8a4-45f7-87ff-8103af1298d7",
   "metadata": {},
   "outputs": [],
   "source": [
    "# Convert 2 to a float\n",
    "\n",
    "float(2)"
   ]
  },
  {
   "cell_type": "code",
   "execution_count": null,
   "id": "640ab391-83a2-4441-9d04-219e14433a80",
   "metadata": {},
   "outputs": [],
   "source": [
    "# Convert integer 2 to a float and check its type\n",
    "\n",
    "type(float(2))"
   ]
  },
  {
   "cell_type": "code",
   "execution_count": null,
   "id": "ea03a181-5675-437f-8679-fe9713b2f034",
   "metadata": {},
   "outputs": [],
   "source": [
    "# Casting 1.1 to integer will result in loss of information\n",
    "\n",
    "int(1.1)"
   ]
  },
  {
   "cell_type": "code",
   "execution_count": null,
   "id": "e310be32-9079-44f6-8419-5d44949a72d5",
   "metadata": {},
   "outputs": [],
   "source": [
    "# Convert a string into an integer\n",
    "\n",
    "int('1')"
   ]
  },
  {
   "cell_type": "code",
   "execution_count": null,
   "id": "9bd88529-851f-4af9-a64f-dc1c2050e18e",
   "metadata": {},
   "outputs": [],
   "source": [
    "# Convert a string into an integer with error\n",
    "\n",
    "int('1 or 2 people')"
   ]
  },
  {
   "cell_type": "code",
   "execution_count": null,
   "id": "3794e067-8364-498a-ad7a-f5805f1558a0",
   "metadata": {},
   "outputs": [],
   "source": [
    "# Convert the string \"1.2\" into a float\n",
    "\n",
    "float('1.2')"
   ]
  },
  {
   "cell_type": "code",
   "execution_count": null,
   "id": "0b35f61d-23c8-4d77-8a4d-e85a5e4cbd96",
   "metadata": {},
   "outputs": [],
   "source": [
    "# Convert an integer to a string\n",
    "\n",
    "str(1)"
   ]
  },
  {
   "cell_type": "code",
   "execution_count": null,
   "id": "dfc87afa-6dc7-4074-a926-ed86da0d4bea",
   "metadata": {},
   "outputs": [],
   "source": [
    "# Convert a float to a string\n",
    "\n",
    "str(1.2)"
   ]
  },
  {
   "cell_type": "markdown",
   "id": "4dad7979-6ef3-4118-9ffd-70099c2bec6e",
   "metadata": {},
   "source": [
    "#### String Manipulation"
   ]
  },
  {
   "cell_type": "code",
   "execution_count": null,
   "id": "41f82b21-cde0-4a17-b801-b93df4dcf354",
   "metadata": {},
   "outputs": [],
   "source": [
    "'spam eggs'  # single quotes\n",
    "'spam eggs'\n",
    "'doesn\\'t'  # use \\' to escape the single quote...\n",
    "\"doesn't\"\n",
    "\"doesn't\"  # ...or use double quotes instead\n",
    "\"doesn't\"\n",
    "'\"Yes,\" they said.'\n",
    "'\"Yes,\" they said.'\n",
    "\"\\\"Yes,\\\" they said.\"\n",
    "'\"Yes,\" they said.'\n",
    "'\"Isn\\'t,\" they said.'\n",
    "'\"Isn\\'t,\" they said."
   ]
  },
  {
   "cell_type": "markdown",
   "id": "5f72b9d4-51fe-4f8b-a6df-2d49f26793c9",
   "metadata": {},
   "source": [
    "- String literals can span multiple lines."
   ]
  },
  {
   "cell_type": "code",
   "execution_count": null,
   "id": "264eb848-0072-4110-aa9c-ef0e69de6648",
   "metadata": {},
   "outputs": [],
   "source": [
    "print(\"\"\"\\\n",
    "Usage: thingy [OPTIONS]\n",
    "     -h                        Display this usage message\n",
    "     -H hostname               Hostname to connect to\n",
    "\"\"\")"
   ]
  },
  {
   "cell_type": "code",
   "execution_count": null,
   "id": "d9aac025-0c46-4d23-b044-1827efadb601",
   "metadata": {},
   "outputs": [],
   "source": [
    "'Py' 'thon'"
   ]
  },
  {
   "cell_type": "code",
   "execution_count": null,
   "id": "42be2d38-2b28-4a81-a48c-d1dda226bb77",
   "metadata": {},
   "outputs": [],
   "source": [
    "text = ('Put several strings within parentheses '\n",
    "        'to have them joined together.')\n",
    "text"
   ]
  },
  {
   "cell_type": "markdown",
   "id": "87d94211-fd6e-42a8-a958-79080d5938db",
   "metadata": {},
   "source": [
    "- This only works with two literals though, not with variables or expressions:"
   ]
  },
  {
   "cell_type": "code",
   "execution_count": null,
   "id": "e1c64d0c-a33f-455f-88b4-6abab01ca35d",
   "metadata": {},
   "outputs": [],
   "source": [
    "prefix = 'Py'\n",
    "prefix 'thon'"
   ]
  },
  {
   "cell_type": "code",
   "execution_count": null,
   "id": "0d5a4699-2a3a-4bcd-bc18-6043cabe0782",
   "metadata": {},
   "outputs": [],
   "source": [
    "- If you want to concatenate variables or a variable and a literal, use +:"
   ]
  },
  {
   "cell_type": "code",
   "execution_count": null,
   "id": "4e6731c1-d197-4b7a-b4ca-aa93c1917ec4",
   "metadata": {},
   "outputs": [],
   "source": [
    "prefix + 'thon'"
   ]
  },
  {
   "cell_type": "markdown",
   "id": "786bfa02-7174-4e31-acd7-7110e3ab7505",
   "metadata": {},
   "source": [
    "- Strings can be indexed (subscripted), with the first character having index 0. There is no separate character type; \n",
    "a character is simply a string of size one:"
   ]
  },
  {
   "cell_type": "code",
   "execution_count": null,
   "id": "25695ab1-644e-4220-ae3a-fb2bb6f478e3",
   "metadata": {},
   "outputs": [],
   "source": [
    " +---+---+---+---+---+---+\n",
    " | P | y | t | h | o | n |\n",
    " +---+---+---+---+---+---+\n",
    " 0   1   2   3   4   5   6\n",
    "-6  -5  -4  -3  -2  -1"
   ]
  },
  {
   "cell_type": "code",
   "execution_count": 46,
   "id": "0336e7bb-ebdf-4682-90f8-30d6d4907dfa",
   "metadata": {},
   "outputs": [],
   "source": [
    "word = 'Python'"
   ]
  },
  {
   "cell_type": "code",
   "execution_count": 47,
   "id": "3bd77d5d-af5e-4e55-a36a-ce311a05e885",
   "metadata": {},
   "outputs": [
    {
     "data": {
      "text/plain": [
       "'n'"
      ]
     },
     "execution_count": 47,
     "metadata": {},
     "output_type": "execute_result"
    }
   ],
   "source": [
    "word[5]  # character in position 5"
   ]
  },
  {
   "cell_type": "code",
   "execution_count": 48,
   "id": "e15ab254-cbb0-4cb8-bfc7-d1e4336f57d4",
   "metadata": {},
   "outputs": [
    {
     "data": {
      "text/plain": [
       "'tho'"
      ]
     },
     "execution_count": 48,
     "metadata": {},
     "output_type": "execute_result"
    }
   ],
   "source": [
    "word[2:5]  # characters from position 2 (included) to 5 (excluded)"
   ]
  },
  {
   "cell_type": "markdown",
   "id": "9be56df3-b6c0-4d9e-bebc-6a02ec61e220",
   "metadata": {
    "tags": []
   },
   "source": [
    "### REFRENCES <a class=\"anchor\" id=\"reference\"></a>"
   ]
  },
  {
   "cell_type": "markdown",
   "id": "a327daab-7715-4efa-8930-b662bcafc919",
   "metadata": {},
   "source": [
    "|S/N| links                                                                            |\n",
    "|---|--------------------------------------------------------------------------------- |\n",
    "|-  |https://docs.python.org/3/tutorial/introduction.html |\n",
    "|-  |https://apps.cognitiveclass.ai/learning/course |"
   ]
  }
 ],
 "metadata": {
  "kernelspec": {
   "display_name": "Python 3 (ipykernel)",
   "language": "python",
   "name": "python3"
  },
  "language_info": {
   "codemirror_mode": {
    "name": "ipython",
    "version": 3
   },
   "file_extension": ".py",
   "mimetype": "text/x-python",
   "name": "python",
   "nbconvert_exporter": "python",
   "pygments_lexer": "ipython3",
   "version": "3.9.12"
  }
 },
 "nbformat": 4,
 "nbformat_minor": 5
}
