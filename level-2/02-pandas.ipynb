{
 "cells": [
  {
   "cell_type": "code",
   "execution_count": null,
   "id": "a229ddaf-25df-40e2-a1a4-55acb956ba2a",
   "metadata": {},
   "outputs": [],
   "source": [
    "# reading and saving dataframes\n",
    "-\n",
    "-\n",
    "-\n",
    "-\n",
    "-\n",
    "-\n",
    "-\n",
    "-\n",
    "-\n",
    "-"
   ]
  },
  {
   "cell_type": "code",
   "execution_count": null,
   "id": "520da49a-5d5f-4513-a155-a103e34b847d",
   "metadata": {},
   "outputs": [],
   "source": [
    "# slicing and sorting in dataframes\n",
    "-\n",
    "-\n",
    "-\n",
    "-\n",
    "-\n",
    "-\n",
    "-\n",
    "-\n",
    "-\n",
    "-"
   ]
  },
  {
   "cell_type": "code",
   "execution_count": null,
   "id": "11a774c2-67ed-4d6b-b6f2-8f83862bca4b",
   "metadata": {},
   "outputs": [],
   "source": [
    "# merging dataframes\n",
    "-\n",
    "- GROUPBY\n",
    "- PIVOTING\n",
    "-\n",
    "-\n",
    "-\n",
    "-\n",
    "-\n",
    "-\n",
    "-"
   ]
  },
  {
   "cell_type": "code",
   "execution_count": null,
   "id": "3c10d19a-d8d2-49d1-a7d1-c5af017f4bb2",
   "metadata": {},
   "outputs": [],
   "source": [
    "# transforming dataframes\n",
    "- stacking\n",
    "- unstacking\n",
    "- WIDE TO LONG\n",
    "- RESTACKING\n",
    "-\n",
    "-\n",
    "-\n",
    "-\n",
    "-\n",
    "-"
   ]
  },
  {
   "cell_type": "code",
   "execution_count": null,
   "id": "20a0b3c0-a5b7-47f0-a9aa-567e7a025313",
   "metadata": {},
   "outputs": [],
   "source": [
    "# cleaning missing dataframes\n",
    "- loading dataset and replacing missing data with nan\n",
    "\n",
    "- # Load the airquality dataset\n",
    "airquality = pd.read_csv('air-quality.csv', parse_dates=['date'], index_col='date')\n",
    "- using msno librarys, msno matirx, msno heatmap, \n",
    "- filling missing values with methods and visulaisaing\n",
    "-\n",
    "-\n",
    "-\n",
    "-\n",
    "-\n",
    "-"
   ]
  },
  {
   "cell_type": "code",
   "execution_count": null,
   "id": "84fbc369-65e3-4a8f-aca2-83a40e18ae09",
   "metadata": {},
   "outputs": [],
   "source": [
    "# normalisation in dataframes\n",
    "- dummy variables in dataframes\n",
    "- ONE HOT ENCODING\n",
    "-\n",
    "-\n",
    "-\n",
    "-\n",
    "-\n",
    "-\n",
    "-\n",
    "-"
   ]
  },
  {
   "cell_type": "code",
   "execution_count": null,
   "id": "c6bcdfad-ad14-4727-8acc-f2b0b7afc219",
   "metadata": {},
   "outputs": [],
   "source": []
  },
  {
   "cell_type": "code",
   "execution_count": null,
   "id": "be511f29-25b6-4d28-9e3f-9d14daa8b829",
   "metadata": {},
   "outputs": [],
   "source": []
  },
  {
   "cell_type": "code",
   "execution_count": null,
   "id": "38a8183e-a09b-4883-b572-06847e0532a0",
   "metadata": {},
   "outputs": [],
   "source": []
  },
  {
   "cell_type": "code",
   "execution_count": null,
   "id": "29216d1d-09da-4d9b-bd79-ee0b88f62a2f",
   "metadata": {},
   "outputs": [],
   "source": []
  },
  {
   "cell_type": "code",
   "execution_count": null,
   "id": "3c796acc-2f5e-4f4e-871a-21732bbb7dce",
   "metadata": {},
   "outputs": [],
   "source": []
  },
  {
   "cell_type": "code",
   "execution_count": null,
   "id": "f432d846-946e-4e66-a6c1-54dafdbda420",
   "metadata": {},
   "outputs": [],
   "source": []
  },
  {
   "cell_type": "code",
   "execution_count": null,
   "id": "d09f609b-c6fe-4a28-b4be-17a8f24440da",
   "metadata": {},
   "outputs": [],
   "source": []
  },
  {
   "cell_type": "code",
   "execution_count": null,
   "id": "02b8c5b6-7d18-459b-bfb3-218b80585be3",
   "metadata": {},
   "outputs": [],
   "source": []
  },
  {
   "cell_type": "code",
   "execution_count": null,
   "id": "d3a9d443-4c43-4228-a0eb-a6e85a9b8109",
   "metadata": {},
   "outputs": [],
   "source": []
  },
  {
   "cell_type": "code",
   "execution_count": null,
   "id": "8b3f3beb-72ca-47b5-89fd-bfa5bcce9072",
   "metadata": {},
   "outputs": [],
   "source": []
  },
  {
   "cell_type": "code",
   "execution_count": null,
   "id": "d7fd25f2-fb5c-4d2f-aa83-6131f5c6ecd1",
   "metadata": {},
   "outputs": [],
   "source": []
  },
  {
   "cell_type": "code",
   "execution_count": null,
   "id": "10445d6f-a28a-4eb8-8da4-41c4ef1724a1",
   "metadata": {},
   "outputs": [],
   "source": []
  },
  {
   "cell_type": "code",
   "execution_count": null,
   "id": "d9871fa0-1f96-431b-94ab-e5fdda9d82ba",
   "metadata": {},
   "outputs": [],
   "source": []
  },
  {
   "cell_type": "code",
   "execution_count": null,
   "id": "46142ae8-84c0-4749-9954-5fdbce823042",
   "metadata": {},
   "outputs": [],
   "source": []
  },
  {
   "cell_type": "code",
   "execution_count": null,
   "id": "e692a5d5-fd49-49fd-9da4-c314540df150",
   "metadata": {},
   "outputs": [],
   "source": []
  },
  {
   "cell_type": "code",
   "execution_count": null,
   "id": "f1140814-62ff-4b3f-8843-1863b6636ac4",
   "metadata": {},
   "outputs": [],
   "source": []
  },
  {
   "cell_type": "code",
   "execution_count": null,
   "id": "b66de42a-005e-4849-bae6-cc48a66cd223",
   "metadata": {},
   "outputs": [],
   "source": []
  },
  {
   "cell_type": "code",
   "execution_count": null,
   "id": "9e9b94e4-7d08-4b82-89a8-33b0338e4066",
   "metadata": {},
   "outputs": [],
   "source": []
  },
  {
   "cell_type": "code",
   "execution_count": null,
   "id": "185e4a30-ccee-49f4-94e3-9d6838995887",
   "metadata": {},
   "outputs": [],
   "source": []
  },
  {
   "cell_type": "code",
   "execution_count": null,
   "id": "5e3b456d-ecd6-4ebf-aacd-9fcbdf537a9b",
   "metadata": {},
   "outputs": [],
   "source": []
  },
  {
   "cell_type": "code",
   "execution_count": null,
   "id": "a4b5a9fa-32f6-48ec-911e-4c9724509429",
   "metadata": {},
   "outputs": [],
   "source": []
  },
  {
   "cell_type": "code",
   "execution_count": null,
   "id": "2d73e7d7-afb1-4b50-b37b-c28a7ac87d95",
   "metadata": {},
   "outputs": [],
   "source": []
  },
  {
   "cell_type": "code",
   "execution_count": null,
   "id": "2b731176-9e42-4268-b424-421f1df75bb2",
   "metadata": {},
   "outputs": [],
   "source": []
  },
  {
   "cell_type": "code",
   "execution_count": null,
   "id": "f761e4fd-f96e-40c5-b9e0-8be4e642f933",
   "metadata": {},
   "outputs": [],
   "source": []
  },
  {
   "cell_type": "code",
   "execution_count": null,
   "id": "6e26caed-4920-40a6-8d44-690c7e912cd3",
   "metadata": {},
   "outputs": [],
   "source": []
  },
  {
   "cell_type": "code",
   "execution_count": null,
   "id": "4f00b1d4-0872-464a-9609-be7daf7f3e37",
   "metadata": {},
   "outputs": [],
   "source": []
  },
  {
   "cell_type": "code",
   "execution_count": null,
   "id": "dd062d1e-5559-402b-8dcc-f7fd69d8872b",
   "metadata": {},
   "outputs": [],
   "source": []
  },
  {
   "cell_type": "code",
   "execution_count": null,
   "id": "81cf2f6c-61e4-4cd3-970b-b21170bc4516",
   "metadata": {},
   "outputs": [],
   "source": []
  },
  {
   "cell_type": "code",
   "execution_count": null,
   "id": "e97dde64-7359-42dd-bc65-297bc0ecf669",
   "metadata": {},
   "outputs": [],
   "source": []
  },
  {
   "cell_type": "code",
   "execution_count": null,
   "id": "66826d8b-55ec-4fe8-ac00-41e386e7fa77",
   "metadata": {},
   "outputs": [],
   "source": []
  },
  {
   "cell_type": "code",
   "execution_count": null,
   "id": "e9248f46-460f-4b00-91c1-f853d24cd5ea",
   "metadata": {},
   "outputs": [],
   "source": []
  },
  {
   "cell_type": "code",
   "execution_count": null,
   "id": "f928a288-42d5-4c21-bc80-3fa7649a839f",
   "metadata": {},
   "outputs": [],
   "source": []
  },
  {
   "cell_type": "code",
   "execution_count": null,
   "id": "b5185c01-166c-45d3-a602-99c691a463ff",
   "metadata": {},
   "outputs": [],
   "source": []
  },
  {
   "cell_type": "code",
   "execution_count": null,
   "id": "c5c347b7-18dc-4de7-9ffa-721231cfa1e6",
   "metadata": {},
   "outputs": [],
   "source": []
  },
  {
   "cell_type": "code",
   "execution_count": null,
   "id": "c3f71cdc-f621-45f1-9e2f-4eec0382b26f",
   "metadata": {},
   "outputs": [],
   "source": []
  },
  {
   "cell_type": "code",
   "execution_count": null,
   "id": "8b3e8a05-6668-4a53-8517-35b1d1c4218b",
   "metadata": {},
   "outputs": [],
   "source": []
  },
  {
   "cell_type": "code",
   "execution_count": null,
   "id": "e6692622-98e9-4ecd-8a85-4167de5bd2a3",
   "metadata": {},
   "outputs": [],
   "source": []
  },
  {
   "cell_type": "code",
   "execution_count": null,
   "id": "16ac62a8-e7e9-4384-8888-5e4f646fca09",
   "metadata": {},
   "outputs": [],
   "source": []
  },
  {
   "cell_type": "code",
   "execution_count": null,
   "id": "4bb58951-95b7-4e50-8728-96d5dc3d67b3",
   "metadata": {},
   "outputs": [],
   "source": []
  },
  {
   "cell_type": "code",
   "execution_count": null,
   "id": "06f9878f-2a5d-41e3-8548-2713c94bfd83",
   "metadata": {},
   "outputs": [],
   "source": []
  },
  {
   "cell_type": "code",
   "execution_count": null,
   "id": "fec2422f-6793-4219-be99-a82dc4352626",
   "metadata": {},
   "outputs": [],
   "source": []
  },
  {
   "cell_type": "code",
   "execution_count": null,
   "id": "1ed10e1d-a4c6-4132-96ef-ffd4a1711ab3",
   "metadata": {},
   "outputs": [],
   "source": []
  },
  {
   "cell_type": "code",
   "execution_count": null,
   "id": "00f1a46e-9751-410e-a3b2-63cd8a83a264",
   "metadata": {},
   "outputs": [],
   "source": []
  }
 ],
 "metadata": {
  "kernelspec": {
   "display_name": "Python 3 (ipykernel)",
   "language": "python",
   "name": "python3"
  },
  "language_info": {
   "codemirror_mode": {
    "name": "ipython",
    "version": 3
   },
   "file_extension": ".py",
   "mimetype": "text/x-python",
   "name": "python",
   "nbconvert_exporter": "python",
   "pygments_lexer": "ipython3",
   "version": "3.10.9"
  }
 },
 "nbformat": 4,
 "nbformat_minor": 5
}
