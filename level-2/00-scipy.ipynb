{
 "cells": [
  {
   "cell_type": "code",
   "execution_count": null,
   "id": "14fe9701-933d-4bcc-99ec-e4dd5996a5b3",
   "metadata": {},
   "outputs": [],
   "source": []
  },
  {
   "cell_type": "code",
   "execution_count": null,
   "id": "b3219b89-7d2e-4e36-8e5e-f3e04e2f7cc5",
   "metadata": {},
   "outputs": [],
   "source": [
    "02-analysis-univariate-bivariate-multivariate-analysis"
   ]
  },
  {
   "cell_type": "code",
   "execution_count": null,
   "id": "97b036b0-951b-4820-a44b-beee34833e39",
   "metadata": {},
   "outputs": [],
   "source": [
    "# working arrays\n",
    "- np.range\n",
    "- np.array\n",
    "1D\n",
    "2D\n",
    "3D\n",
    "- np.zeros\n",
    "- np.random\n",
    "- np.random.randint()\n",
    "- np.random.random()\n",
    "- np.flatten()\n",
    "- np.reshape()\n",
    "- np.astype\n",
    "-np.dtype"
   ]
  },
  {
   "cell_type": "code",
   "execution_count": null,
   "id": "93712f8c-0e26-485f-8a9f-525af65e1295",
   "metadata": {},
   "outputs": [],
   "source": [
    "# indexing, st in arrays\n",
    "- np.sort\n",
    "- masking\n",
    "- np.where\n",
    "- np.concatenate\n",
    "- np.delete\n",
    "-\n",
    "-\n",
    "-\n",
    "-\n",
    "-\n",
    "-"
   ]
  },
  {
   "cell_type": "code",
   "execution_count": null,
   "id": "28873499-7a8f-49f8-846c-bc9a02e40114",
   "metadata": {},
   "outputs": [],
   "source": [
    "# aggregate methods\n",
    "- np.sum\n",
    "- np.min\n",
    "- np.max\n",
    "- np.cumsum\n",
    "- np.mean\n",
    "- np.median\n",
    "- np.mode\n",
    "- np.maths (add, sub, divide, muult)\n",
    "- np.vectorize\n",
    "- np.broadcasting "
   ]
  },
  {
   "cell_type": "code",
   "execution_count": null,
   "id": "06a3ca68-a467-4afb-8ac5-39914d359e65",
   "metadata": {},
   "outputs": [],
   "source": [
    "# saving  and loading files\n",
    "- read\n",
    "- write\n",
    "-replace \n",
    "- astype\n",
    "-"
   ]
  },
  {
   "cell_type": "code",
   "execution_count": null,
   "id": "80fcae4a-6a4d-4e5c-a374-39d39625b7a0",
   "metadata": {},
   "outputs": [],
   "source": [
    "# ttransformation \n",
    "- np.flip\n",
    "- np.transpose\n",
    "- np.stack()\n",
    "- np.split(0\n",
    "- \n",
    "- \n",
    "- \n",
    "-\n",
    "-\n",
    "- \n"
   ]
  }
 ],
 "metadata": {
  "kernelspec": {
   "display_name": "Python 3 (ipykernel)",
   "language": "python",
   "name": "python3"
  },
  "language_info": {
   "codemirror_mode": {
    "name": "ipython",
    "version": 3
   },
   "file_extension": ".py",
   "mimetype": "text/x-python",
   "name": "python",
   "nbconvert_exporter": "python",
   "pygments_lexer": "ipython3",
   "version": "3.10.9"
  }
 },
 "nbformat": 4,
 "nbformat_minor": 5
}
