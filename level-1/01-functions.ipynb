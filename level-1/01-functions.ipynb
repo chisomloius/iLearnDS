{
 "cells": [
  {
   "cell_type": "code",
   "execution_count": null,
   "id": "ebc3a07b-8c17-47c9-8f02-f5dc33d7d95e",
   "metadata": {},
   "outputs": [],
   "source": []
  },
  {
   "cell_type": "code",
   "execution_count": null,
   "id": "5aaeb7e9-06bb-4156-a4c7-188d4aeb885a",
   "metadata": {},
   "outputs": [],
   "source": [
    "## TABLE OF CONTENT\n",
    "\n",
    "|S/N| CONTENT                                                         |\n",
    "|---|---------------------------------------------------------------- |\n",
    "|1| [HISTORY OF PYTHON](#history-of-python)                           |\n",
    "|2| [PYTHON ZEN](#python-zen)                                         |\n",
    "|3| [DATA SCIENCE PROCESS](#data-science-process)                     |\n",
    "|4| [DATA SCIENCE TOOLS](#data-science-tools)                         |\n",
    "|5| [THE INTERSECTION OF ARTIFICIAL INTELLIGENCE](#intersection-of-ai)|\n",
    "|6| [REFERENCE](#reference)                                           |\n",
    "    GENERATORS\n",
    "    DECORATORS"
   ]
  },
  {
   "cell_type": "code",
   "execution_count": null,
   "id": "97b036b0-951b-4820-a44b-beee34833e39",
   "metadata": {},
   "outputs": [],
   "source": [
    "DOCSTRINGS"
   ]
  },
  {
   "cell_type": "code",
   "execution_count": null,
   "id": "d31674ad-2cde-4fec-9bf0-331429bdce75",
   "metadata": {},
   "outputs": [],
   "source": []
  },
  {
   "cell_type": "code",
   "execution_count": null,
   "id": "7a064252-d792-4c0a-9342-60e40fc5560f",
   "metadata": {},
   "outputs": [],
   "source": []
  },
  {
   "cell_type": "code",
   "execution_count": null,
   "id": "eae5daa7-4cd6-41ba-b648-6f9ad115f07b",
   "metadata": {},
   "outputs": [],
   "source": []
  }
 ],
 "metadata": {
  "kernelspec": {
   "display_name": "Python 3 (ipykernel)",
   "language": "python",
   "name": "python3"
  },
  "language_info": {
   "codemirror_mode": {
    "name": "ipython",
    "version": 3
   },
   "file_extension": ".py",
   "mimetype": "text/x-python",
   "name": "python",
   "nbconvert_exporter": "python",
   "pygments_lexer": "ipython3",
   "version": "3.10.9"
  }
 },
 "nbformat": 4,
 "nbformat_minor": 5
}
