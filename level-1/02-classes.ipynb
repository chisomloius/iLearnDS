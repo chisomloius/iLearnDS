{
 "cells": [
  {
   "cell_type": "code",
   "execution_count": null,
   "id": "bbdb0e7a-b392-4f0d-bb32-c5b3c93d2bb3",
   "metadata": {},
   "outputs": [],
   "source": []
  },
  {
   "cell_type": "code",
   "execution_count": null,
   "id": "26684369-39aa-453b-a28d-8fca4d2fd986",
   "metadata": {},
   "outputs": [],
   "source": [
    "## TABLE OF CONTENT\n",
    "\n",
    "|S/N| CONTENT                                                         |\n",
    "|---|---------------------------------------------------------------- |\n",
    "|1| [HISTORY OF PYTHON](#history-of-python)                           |\n",
    "|2| [PYTHON ZEN](#python-zen)                                         |\n",
    "|3| [DATA SCIENCE PROCESS](#data-science-process)                     |\n",
    "|4| [DATA SCIENCE TOOLS](#data-science-tools)                         |\n",
    "|5| [THE INTERSECTION OF ARTIFICIAL INTELLIGENCE](#intersection-of-ai)|\n",
    "|6| [REFERENCE](#reference)                                           |"
   ]
  },
  {
   "cell_type": "code",
   "execution_count": null,
   "id": "69267d3d-7dad-4567-83fc-e3756e0d6f14",
   "metadata": {},
   "outputs": [],
   "source": [
    " - DECO"
   ]
  }
 ],
 "metadata": {
  "kernelspec": {
   "display_name": "Python 3 (ipykernel)",
   "language": "python",
   "name": "python3"
  },
  "language_info": {
   "codemirror_mode": {
    "name": "ipython",
    "version": 3
   },
   "file_extension": ".py",
   "mimetype": "text/x-python",
   "name": "python",
   "nbconvert_exporter": "python",
   "pygments_lexer": "ipython3",
   "version": "3.10.9"
  }
 },
 "nbformat": 4,
 "nbformat_minor": 5
}
