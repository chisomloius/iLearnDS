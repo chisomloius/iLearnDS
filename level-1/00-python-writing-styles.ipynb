{
 "cells": [
  {
   "cell_type": "code",
   "execution_count": null,
   "id": "bb8bad74-29b6-452a-a51b-8f7a114a42ce",
   "metadata": {},
   "outputs": [],
   "source": []
  },
  {
   "cell_type": "code",
   "execution_count": null,
   "id": "0a988b6c-eac0-4fbe-84ca-f41de6da986f",
   "metadata": {},
   "outputs": [],
   "source": [
    "## TABLE OF CONTENT\n",
    "\n",
    "|S/N| CONTENT                                                         |\n",
    "|---|---------------------------------------------------------------- |\n",
    "|1| [HISTORY OF PYTHON](#history-of-python)                           |\n",
    "|2| [PYTHON ZEN](#python-zen)                                         |\n",
    "|3| [DATA SCIENCE PROCESS](#data-science-process)                     |\n",
    "|4| [DATA SCIENCE TOOLS](#data-science-tools)                         |\n",
    "|5| [THE INTERSECTION OF ARTIFICIAL INTELLIGENCE](#intersection-of-ai)|\n",
    "|6| [REFERENCE](#reference)                                           |"
   ]
  },
  {
   "cell_type": "markdown",
   "id": "822cc9ae-8282-4cb8-a44c-f333e38970d0",
   "metadata": {},
   "source": [
    "# PYTHON STYLES\n",
    "- STRING OPERATIONS\n",
    " - SEQUENCE METHODS\n",
    " - STRING METHODS\n",
    "-  STRING FORMATTING\n",
    "- CONTEXT MANAGERS READ, WRITE I/O\n",
    "- REGULAR EXPERSSION\n",
    "- TIMING AND PROFILING\n",
    "- MAPPING\n"
   ]
  },
  {
   "cell_type": "code",
   "execution_count": null,
   "id": "012fbd9f-a97d-4866-a9be-ffb77520ff6e",
   "metadata": {},
   "outputs": [],
   "source": [
    "## What is a computer program?\n",
    "At its simplest, a program is a list of instructions that a computer carries out in order. \n",
    "A program could be long and complicated, but it is built of simple parts. \n",
    "Let's look at some simple operations in Python, and think about what the computer does for each one:"
   ]
  },
  {
   "cell_type": "code",
   "execution_count": null,
   "id": "72db04f2-f5a0-46b9-8f78-45fdcbc9df50",
   "metadata": {},
   "outputs": [],
   "source": [
    "#### String Forma"
   ]
  },
  {
   "cell_type": "code",
   "execution_count": null,
   "id": "f69ff8c1-2af2-4f58-9ca5-5bf3bd3479d2",
   "metadata": {},
   "outputs": [],
   "source": []
  }
 ],
 "metadata": {
  "kernelspec": {
   "display_name": "Python 3 (ipykernel)",
   "language": "python",
   "name": "python3"
  },
  "language_info": {
   "codemirror_mode": {
    "name": "ipython",
    "version": 3
   },
   "file_extension": ".py",
   "mimetype": "text/x-python",
   "name": "python",
   "nbconvert_exporter": "python",
   "pygments_lexer": "ipython3",
   "version": "3.10.9"
  }
 },
 "nbformat": 4,
 "nbformat_minor": 5
}
